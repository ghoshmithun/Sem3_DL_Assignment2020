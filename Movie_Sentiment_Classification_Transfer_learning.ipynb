{
  "nbformat": 4,
  "nbformat_minor": 0,
  "metadata": {
    "colab": {
      "name": "Movie Sentiment Classification Transfer learning.ipynb",
      "provenance": [],
      "include_colab_link": true
    },
    "kernelspec": {
      "name": "python3",
      "display_name": "Python 3"
    },
    "widgets": {
      "application/vnd.jupyter.widget-state+json": {
        "de3301a7c9c84627a206bc3a9cacd227": {
          "model_module": "@jupyter-widgets/controls",
          "model_name": "HBoxModel",
          "state": {
            "_view_name": "HBoxView",
            "_dom_classes": [],
            "_model_name": "HBoxModel",
            "_view_module": "@jupyter-widgets/controls",
            "_model_module_version": "1.5.0",
            "_view_count": null,
            "_view_module_version": "1.5.0",
            "box_style": "",
            "layout": "IPY_MODEL_5b98017026394a48974166f080c84907",
            "_model_module": "@jupyter-widgets/controls",
            "children": [
              "IPY_MODEL_3948042e5ec74e63a5306e1a2b4f55b5",
              "IPY_MODEL_e0cf2e4fe149419ca043458c0229908a"
            ]
          }
        },
        "5b98017026394a48974166f080c84907": {
          "model_module": "@jupyter-widgets/base",
          "model_name": "LayoutModel",
          "state": {
            "_view_name": "LayoutView",
            "grid_template_rows": null,
            "right": null,
            "justify_content": null,
            "_view_module": "@jupyter-widgets/base",
            "overflow": null,
            "_model_module_version": "1.2.0",
            "_view_count": null,
            "flex_flow": null,
            "width": null,
            "min_width": null,
            "border": null,
            "align_items": null,
            "bottom": null,
            "_model_module": "@jupyter-widgets/base",
            "top": null,
            "grid_column": null,
            "overflow_y": null,
            "overflow_x": null,
            "grid_auto_flow": null,
            "grid_area": null,
            "grid_template_columns": null,
            "flex": null,
            "_model_name": "LayoutModel",
            "justify_items": null,
            "grid_row": null,
            "max_height": null,
            "align_content": null,
            "visibility": null,
            "align_self": null,
            "height": null,
            "min_height": null,
            "padding": null,
            "grid_auto_rows": null,
            "grid_gap": null,
            "max_width": null,
            "order": null,
            "_view_module_version": "1.2.0",
            "grid_template_areas": null,
            "object_position": null,
            "object_fit": null,
            "grid_auto_columns": null,
            "margin": null,
            "display": null,
            "left": null
          }
        },
        "3948042e5ec74e63a5306e1a2b4f55b5": {
          "model_module": "@jupyter-widgets/controls",
          "model_name": "FloatProgressModel",
          "state": {
            "_view_name": "ProgressView",
            "style": "IPY_MODEL_39059e1d6c7245c1ada90b44fd6b6cee",
            "_dom_classes": [],
            "description": "Downloading: 100%",
            "_model_name": "FloatProgressModel",
            "bar_style": "success",
            "max": 433,
            "_view_module": "@jupyter-widgets/controls",
            "_model_module_version": "1.5.0",
            "value": 433,
            "_view_count": null,
            "_view_module_version": "1.5.0",
            "orientation": "horizontal",
            "min": 0,
            "description_tooltip": null,
            "_model_module": "@jupyter-widgets/controls",
            "layout": "IPY_MODEL_bef5cc39a1f748b088ad2632c9dca240"
          }
        },
        "e0cf2e4fe149419ca043458c0229908a": {
          "model_module": "@jupyter-widgets/controls",
          "model_name": "HTMLModel",
          "state": {
            "_view_name": "HTMLView",
            "style": "IPY_MODEL_ba3c60832af945e98d938b0daeb27c94",
            "_dom_classes": [],
            "description": "",
            "_model_name": "HTMLModel",
            "placeholder": "​",
            "_view_module": "@jupyter-widgets/controls",
            "_model_module_version": "1.5.0",
            "value": " 433/433 [00:24&lt;00:00, 17.4B/s]",
            "_view_count": null,
            "_view_module_version": "1.5.0",
            "description_tooltip": null,
            "_model_module": "@jupyter-widgets/controls",
            "layout": "IPY_MODEL_9f591ce63ef2476a98582fd5176c3b24"
          }
        },
        "39059e1d6c7245c1ada90b44fd6b6cee": {
          "model_module": "@jupyter-widgets/controls",
          "model_name": "ProgressStyleModel",
          "state": {
            "_view_name": "StyleView",
            "_model_name": "ProgressStyleModel",
            "description_width": "initial",
            "_view_module": "@jupyter-widgets/base",
            "_model_module_version": "1.5.0",
            "_view_count": null,
            "_view_module_version": "1.2.0",
            "bar_color": null,
            "_model_module": "@jupyter-widgets/controls"
          }
        },
        "bef5cc39a1f748b088ad2632c9dca240": {
          "model_module": "@jupyter-widgets/base",
          "model_name": "LayoutModel",
          "state": {
            "_view_name": "LayoutView",
            "grid_template_rows": null,
            "right": null,
            "justify_content": null,
            "_view_module": "@jupyter-widgets/base",
            "overflow": null,
            "_model_module_version": "1.2.0",
            "_view_count": null,
            "flex_flow": null,
            "width": null,
            "min_width": null,
            "border": null,
            "align_items": null,
            "bottom": null,
            "_model_module": "@jupyter-widgets/base",
            "top": null,
            "grid_column": null,
            "overflow_y": null,
            "overflow_x": null,
            "grid_auto_flow": null,
            "grid_area": null,
            "grid_template_columns": null,
            "flex": null,
            "_model_name": "LayoutModel",
            "justify_items": null,
            "grid_row": null,
            "max_height": null,
            "align_content": null,
            "visibility": null,
            "align_self": null,
            "height": null,
            "min_height": null,
            "padding": null,
            "grid_auto_rows": null,
            "grid_gap": null,
            "max_width": null,
            "order": null,
            "_view_module_version": "1.2.0",
            "grid_template_areas": null,
            "object_position": null,
            "object_fit": null,
            "grid_auto_columns": null,
            "margin": null,
            "display": null,
            "left": null
          }
        },
        "ba3c60832af945e98d938b0daeb27c94": {
          "model_module": "@jupyter-widgets/controls",
          "model_name": "DescriptionStyleModel",
          "state": {
            "_view_name": "StyleView",
            "_model_name": "DescriptionStyleModel",
            "description_width": "",
            "_view_module": "@jupyter-widgets/base",
            "_model_module_version": "1.5.0",
            "_view_count": null,
            "_view_module_version": "1.2.0",
            "_model_module": "@jupyter-widgets/controls"
          }
        },
        "9f591ce63ef2476a98582fd5176c3b24": {
          "model_module": "@jupyter-widgets/base",
          "model_name": "LayoutModel",
          "state": {
            "_view_name": "LayoutView",
            "grid_template_rows": null,
            "right": null,
            "justify_content": null,
            "_view_module": "@jupyter-widgets/base",
            "overflow": null,
            "_model_module_version": "1.2.0",
            "_view_count": null,
            "flex_flow": null,
            "width": null,
            "min_width": null,
            "border": null,
            "align_items": null,
            "bottom": null,
            "_model_module": "@jupyter-widgets/base",
            "top": null,
            "grid_column": null,
            "overflow_y": null,
            "overflow_x": null,
            "grid_auto_flow": null,
            "grid_area": null,
            "grid_template_columns": null,
            "flex": null,
            "_model_name": "LayoutModel",
            "justify_items": null,
            "grid_row": null,
            "max_height": null,
            "align_content": null,
            "visibility": null,
            "align_self": null,
            "height": null,
            "min_height": null,
            "padding": null,
            "grid_auto_rows": null,
            "grid_gap": null,
            "max_width": null,
            "order": null,
            "_view_module_version": "1.2.0",
            "grid_template_areas": null,
            "object_position": null,
            "object_fit": null,
            "grid_auto_columns": null,
            "margin": null,
            "display": null,
            "left": null
          }
        },
        "a5e501ed98cc41e7b266474f2acc5dd5": {
          "model_module": "@jupyter-widgets/controls",
          "model_name": "HBoxModel",
          "state": {
            "_view_name": "HBoxView",
            "_dom_classes": [],
            "_model_name": "HBoxModel",
            "_view_module": "@jupyter-widgets/controls",
            "_model_module_version": "1.5.0",
            "_view_count": null,
            "_view_module_version": "1.5.0",
            "box_style": "",
            "layout": "IPY_MODEL_42977816444847bc84fc37d043f8e64c",
            "_model_module": "@jupyter-widgets/controls",
            "children": [
              "IPY_MODEL_e5a63b0731ef49efb71e613d571a4755",
              "IPY_MODEL_83aa5167e74f440d9b476f99f1bc5b47"
            ]
          }
        },
        "42977816444847bc84fc37d043f8e64c": {
          "model_module": "@jupyter-widgets/base",
          "model_name": "LayoutModel",
          "state": {
            "_view_name": "LayoutView",
            "grid_template_rows": null,
            "right": null,
            "justify_content": null,
            "_view_module": "@jupyter-widgets/base",
            "overflow": null,
            "_model_module_version": "1.2.0",
            "_view_count": null,
            "flex_flow": null,
            "width": null,
            "min_width": null,
            "border": null,
            "align_items": null,
            "bottom": null,
            "_model_module": "@jupyter-widgets/base",
            "top": null,
            "grid_column": null,
            "overflow_y": null,
            "overflow_x": null,
            "grid_auto_flow": null,
            "grid_area": null,
            "grid_template_columns": null,
            "flex": null,
            "_model_name": "LayoutModel",
            "justify_items": null,
            "grid_row": null,
            "max_height": null,
            "align_content": null,
            "visibility": null,
            "align_self": null,
            "height": null,
            "min_height": null,
            "padding": null,
            "grid_auto_rows": null,
            "grid_gap": null,
            "max_width": null,
            "order": null,
            "_view_module_version": "1.2.0",
            "grid_template_areas": null,
            "object_position": null,
            "object_fit": null,
            "grid_auto_columns": null,
            "margin": null,
            "display": null,
            "left": null
          }
        },
        "e5a63b0731ef49efb71e613d571a4755": {
          "model_module": "@jupyter-widgets/controls",
          "model_name": "FloatProgressModel",
          "state": {
            "_view_name": "ProgressView",
            "style": "IPY_MODEL_fb147e05e68e47499cfe502d69e6ae5b",
            "_dom_classes": [],
            "description": "Downloading: 100%",
            "_model_name": "FloatProgressModel",
            "bar_style": "success",
            "max": 440473133,
            "_view_module": "@jupyter-widgets/controls",
            "_model_module_version": "1.5.0",
            "value": 440473133,
            "_view_count": null,
            "_view_module_version": "1.5.0",
            "orientation": "horizontal",
            "min": 0,
            "description_tooltip": null,
            "_model_module": "@jupyter-widgets/controls",
            "layout": "IPY_MODEL_0565f10d4af2495185e7bc0c2c229dea"
          }
        },
        "83aa5167e74f440d9b476f99f1bc5b47": {
          "model_module": "@jupyter-widgets/controls",
          "model_name": "HTMLModel",
          "state": {
            "_view_name": "HTMLView",
            "style": "IPY_MODEL_5040d647ac474c94a35eea5efd0db55e",
            "_dom_classes": [],
            "description": "",
            "_model_name": "HTMLModel",
            "placeholder": "​",
            "_view_module": "@jupyter-widgets/controls",
            "_model_module_version": "1.5.0",
            "value": " 440M/440M [00:24&lt;00:00, 18.0MB/s]",
            "_view_count": null,
            "_view_module_version": "1.5.0",
            "description_tooltip": null,
            "_model_module": "@jupyter-widgets/controls",
            "layout": "IPY_MODEL_bbeefe89f02d468a8733a0dbba04d54b"
          }
        },
        "fb147e05e68e47499cfe502d69e6ae5b": {
          "model_module": "@jupyter-widgets/controls",
          "model_name": "ProgressStyleModel",
          "state": {
            "_view_name": "StyleView",
            "_model_name": "ProgressStyleModel",
            "description_width": "initial",
            "_view_module": "@jupyter-widgets/base",
            "_model_module_version": "1.5.0",
            "_view_count": null,
            "_view_module_version": "1.2.0",
            "bar_color": null,
            "_model_module": "@jupyter-widgets/controls"
          }
        },
        "0565f10d4af2495185e7bc0c2c229dea": {
          "model_module": "@jupyter-widgets/base",
          "model_name": "LayoutModel",
          "state": {
            "_view_name": "LayoutView",
            "grid_template_rows": null,
            "right": null,
            "justify_content": null,
            "_view_module": "@jupyter-widgets/base",
            "overflow": null,
            "_model_module_version": "1.2.0",
            "_view_count": null,
            "flex_flow": null,
            "width": null,
            "min_width": null,
            "border": null,
            "align_items": null,
            "bottom": null,
            "_model_module": "@jupyter-widgets/base",
            "top": null,
            "grid_column": null,
            "overflow_y": null,
            "overflow_x": null,
            "grid_auto_flow": null,
            "grid_area": null,
            "grid_template_columns": null,
            "flex": null,
            "_model_name": "LayoutModel",
            "justify_items": null,
            "grid_row": null,
            "max_height": null,
            "align_content": null,
            "visibility": null,
            "align_self": null,
            "height": null,
            "min_height": null,
            "padding": null,
            "grid_auto_rows": null,
            "grid_gap": null,
            "max_width": null,
            "order": null,
            "_view_module_version": "1.2.0",
            "grid_template_areas": null,
            "object_position": null,
            "object_fit": null,
            "grid_auto_columns": null,
            "margin": null,
            "display": null,
            "left": null
          }
        },
        "5040d647ac474c94a35eea5efd0db55e": {
          "model_module": "@jupyter-widgets/controls",
          "model_name": "DescriptionStyleModel",
          "state": {
            "_view_name": "StyleView",
            "_model_name": "DescriptionStyleModel",
            "description_width": "",
            "_view_module": "@jupyter-widgets/base",
            "_model_module_version": "1.5.0",
            "_view_count": null,
            "_view_module_version": "1.2.0",
            "_model_module": "@jupyter-widgets/controls"
          }
        },
        "bbeefe89f02d468a8733a0dbba04d54b": {
          "model_module": "@jupyter-widgets/base",
          "model_name": "LayoutModel",
          "state": {
            "_view_name": "LayoutView",
            "grid_template_rows": null,
            "right": null,
            "justify_content": null,
            "_view_module": "@jupyter-widgets/base",
            "overflow": null,
            "_model_module_version": "1.2.0",
            "_view_count": null,
            "flex_flow": null,
            "width": null,
            "min_width": null,
            "border": null,
            "align_items": null,
            "bottom": null,
            "_model_module": "@jupyter-widgets/base",
            "top": null,
            "grid_column": null,
            "overflow_y": null,
            "overflow_x": null,
            "grid_auto_flow": null,
            "grid_area": null,
            "grid_template_columns": null,
            "flex": null,
            "_model_name": "LayoutModel",
            "justify_items": null,
            "grid_row": null,
            "max_height": null,
            "align_content": null,
            "visibility": null,
            "align_self": null,
            "height": null,
            "min_height": null,
            "padding": null,
            "grid_auto_rows": null,
            "grid_gap": null,
            "max_width": null,
            "order": null,
            "_view_module_version": "1.2.0",
            "grid_template_areas": null,
            "object_position": null,
            "object_fit": null,
            "grid_auto_columns": null,
            "margin": null,
            "display": null,
            "left": null
          }
        },
        "5d32667a1c18476795c4b23ede821346": {
          "model_module": "@jupyter-widgets/controls",
          "model_name": "HBoxModel",
          "state": {
            "_view_name": "HBoxView",
            "_dom_classes": [],
            "_model_name": "HBoxModel",
            "_view_module": "@jupyter-widgets/controls",
            "_model_module_version": "1.5.0",
            "_view_count": null,
            "_view_module_version": "1.5.0",
            "box_style": "",
            "layout": "IPY_MODEL_75278de502ff4782b06c32e5b2dee3ef",
            "_model_module": "@jupyter-widgets/controls",
            "children": [
              "IPY_MODEL_f6516484baad4a7894e41c43ac986687",
              "IPY_MODEL_a399958397fb40f9b0313f9a4434d90c"
            ]
          }
        },
        "75278de502ff4782b06c32e5b2dee3ef": {
          "model_module": "@jupyter-widgets/base",
          "model_name": "LayoutModel",
          "state": {
            "_view_name": "LayoutView",
            "grid_template_rows": null,
            "right": null,
            "justify_content": null,
            "_view_module": "@jupyter-widgets/base",
            "overflow": null,
            "_model_module_version": "1.2.0",
            "_view_count": null,
            "flex_flow": null,
            "width": null,
            "min_width": null,
            "border": null,
            "align_items": null,
            "bottom": null,
            "_model_module": "@jupyter-widgets/base",
            "top": null,
            "grid_column": null,
            "overflow_y": null,
            "overflow_x": null,
            "grid_auto_flow": null,
            "grid_area": null,
            "grid_template_columns": null,
            "flex": null,
            "_model_name": "LayoutModel",
            "justify_items": null,
            "grid_row": null,
            "max_height": null,
            "align_content": null,
            "visibility": null,
            "align_self": null,
            "height": null,
            "min_height": null,
            "padding": null,
            "grid_auto_rows": null,
            "grid_gap": null,
            "max_width": null,
            "order": null,
            "_view_module_version": "1.2.0",
            "grid_template_areas": null,
            "object_position": null,
            "object_fit": null,
            "grid_auto_columns": null,
            "margin": null,
            "display": null,
            "left": null
          }
        },
        "f6516484baad4a7894e41c43ac986687": {
          "model_module": "@jupyter-widgets/controls",
          "model_name": "FloatProgressModel",
          "state": {
            "_view_name": "ProgressView",
            "style": "IPY_MODEL_e7b4e515fbc04ae99b9794393b259bb5",
            "_dom_classes": [],
            "description": "Downloading: 100%",
            "_model_name": "FloatProgressModel",
            "bar_style": "success",
            "max": 231508,
            "_view_module": "@jupyter-widgets/controls",
            "_model_module_version": "1.5.0",
            "value": 231508,
            "_view_count": null,
            "_view_module_version": "1.5.0",
            "orientation": "horizontal",
            "min": 0,
            "description_tooltip": null,
            "_model_module": "@jupyter-widgets/controls",
            "layout": "IPY_MODEL_c5316eed2d6f4a5c902394eb6d955ea7"
          }
        },
        "a399958397fb40f9b0313f9a4434d90c": {
          "model_module": "@jupyter-widgets/controls",
          "model_name": "HTMLModel",
          "state": {
            "_view_name": "HTMLView",
            "style": "IPY_MODEL_94c94379b61149fd896a967460dce688",
            "_dom_classes": [],
            "description": "",
            "_model_name": "HTMLModel",
            "placeholder": "​",
            "_view_module": "@jupyter-widgets/controls",
            "_model_module_version": "1.5.0",
            "value": " 232k/232k [00:01&lt;00:00, 132kB/s]",
            "_view_count": null,
            "_view_module_version": "1.5.0",
            "description_tooltip": null,
            "_model_module": "@jupyter-widgets/controls",
            "layout": "IPY_MODEL_73b1cabf3e244d9d9adfde06935e86d0"
          }
        },
        "e7b4e515fbc04ae99b9794393b259bb5": {
          "model_module": "@jupyter-widgets/controls",
          "model_name": "ProgressStyleModel",
          "state": {
            "_view_name": "StyleView",
            "_model_name": "ProgressStyleModel",
            "description_width": "initial",
            "_view_module": "@jupyter-widgets/base",
            "_model_module_version": "1.5.0",
            "_view_count": null,
            "_view_module_version": "1.2.0",
            "bar_color": null,
            "_model_module": "@jupyter-widgets/controls"
          }
        },
        "c5316eed2d6f4a5c902394eb6d955ea7": {
          "model_module": "@jupyter-widgets/base",
          "model_name": "LayoutModel",
          "state": {
            "_view_name": "LayoutView",
            "grid_template_rows": null,
            "right": null,
            "justify_content": null,
            "_view_module": "@jupyter-widgets/base",
            "overflow": null,
            "_model_module_version": "1.2.0",
            "_view_count": null,
            "flex_flow": null,
            "width": null,
            "min_width": null,
            "border": null,
            "align_items": null,
            "bottom": null,
            "_model_module": "@jupyter-widgets/base",
            "top": null,
            "grid_column": null,
            "overflow_y": null,
            "overflow_x": null,
            "grid_auto_flow": null,
            "grid_area": null,
            "grid_template_columns": null,
            "flex": null,
            "_model_name": "LayoutModel",
            "justify_items": null,
            "grid_row": null,
            "max_height": null,
            "align_content": null,
            "visibility": null,
            "align_self": null,
            "height": null,
            "min_height": null,
            "padding": null,
            "grid_auto_rows": null,
            "grid_gap": null,
            "max_width": null,
            "order": null,
            "_view_module_version": "1.2.0",
            "grid_template_areas": null,
            "object_position": null,
            "object_fit": null,
            "grid_auto_columns": null,
            "margin": null,
            "display": null,
            "left": null
          }
        },
        "94c94379b61149fd896a967460dce688": {
          "model_module": "@jupyter-widgets/controls",
          "model_name": "DescriptionStyleModel",
          "state": {
            "_view_name": "StyleView",
            "_model_name": "DescriptionStyleModel",
            "description_width": "",
            "_view_module": "@jupyter-widgets/base",
            "_model_module_version": "1.5.0",
            "_view_count": null,
            "_view_module_version": "1.2.0",
            "_model_module": "@jupyter-widgets/controls"
          }
        },
        "73b1cabf3e244d9d9adfde06935e86d0": {
          "model_module": "@jupyter-widgets/base",
          "model_name": "LayoutModel",
          "state": {
            "_view_name": "LayoutView",
            "grid_template_rows": null,
            "right": null,
            "justify_content": null,
            "_view_module": "@jupyter-widgets/base",
            "overflow": null,
            "_model_module_version": "1.2.0",
            "_view_count": null,
            "flex_flow": null,
            "width": null,
            "min_width": null,
            "border": null,
            "align_items": null,
            "bottom": null,
            "_model_module": "@jupyter-widgets/base",
            "top": null,
            "grid_column": null,
            "overflow_y": null,
            "overflow_x": null,
            "grid_auto_flow": null,
            "grid_area": null,
            "grid_template_columns": null,
            "flex": null,
            "_model_name": "LayoutModel",
            "justify_items": null,
            "grid_row": null,
            "max_height": null,
            "align_content": null,
            "visibility": null,
            "align_self": null,
            "height": null,
            "min_height": null,
            "padding": null,
            "grid_auto_rows": null,
            "grid_gap": null,
            "max_width": null,
            "order": null,
            "_view_module_version": "1.2.0",
            "grid_template_areas": null,
            "object_position": null,
            "object_fit": null,
            "grid_auto_columns": null,
            "margin": null,
            "display": null,
            "left": null
          }
        }
      }
    }
  },
  "cells": [
    {
      "cell_type": "markdown",
      "metadata": {
        "id": "view-in-github",
        "colab_type": "text"
      },
      "source": [
        "<a href=\"https://colab.research.google.com/github/ghoshmithun/Sem3_DL_Assignment2020/blob/main/Movie_Sentiment_Classification_Transfer_learning.ipynb\" target=\"_parent\"><img src=\"https://colab.research.google.com/assets/colab-badge.svg\" alt=\"Open In Colab\"/></a>"
      ]
    },
    {
      "cell_type": "code",
      "metadata": {
        "id": "mYCO2_hkiz0P",
        "colab": {
          "base_uri": "https://localhost:8080/",
          "height": 208
        },
        "outputId": "d12d52eb-1d7d-460c-fbdf-b49354d3225c"
      },
      "source": [
        "!wget http://ai.stanford.edu/~amaas/data/sentiment/aclImdb_v1.tar.gz"
      ],
      "execution_count": null,
      "outputs": [
        {
          "output_type": "stream",
          "text": [
            "--2020-10-19 15:46:44--  http://ai.stanford.edu/~amaas/data/sentiment/aclImdb_v1.tar.gz\n",
            "Resolving ai.stanford.edu (ai.stanford.edu)... 171.64.68.10\n",
            "Connecting to ai.stanford.edu (ai.stanford.edu)|171.64.68.10|:80... connected.\n",
            "HTTP request sent, awaiting response... 200 OK\n",
            "Length: 84125825 (80M) [application/x-gzip]\n",
            "Saving to: ‘aclImdb_v1.tar.gz’\n",
            "\n",
            "aclImdb_v1.tar.gz   100%[===================>]  80.23M  21.7MB/s    in 5.3s    \n",
            "\n",
            "2020-10-19 15:46:49 (15.1 MB/s) - ‘aclImdb_v1.tar.gz’ saved [84125825/84125825]\n",
            "\n"
          ],
          "name": "stdout"
        }
      ]
    },
    {
      "cell_type": "code",
      "metadata": {
        "id": "wJIeSiTFi-aU"
      },
      "source": [
        "!tar -xzf aclImdb_v1.tar.gz "
      ],
      "execution_count": null,
      "outputs": []
    },
    {
      "cell_type": "code",
      "metadata": {
        "id": "YhYEfRGNjAyl",
        "colab": {
          "base_uri": "https://localhost:8080/",
          "height": 34
        },
        "outputId": "5ba03aba-bfe2-402f-ec9f-3792e50d612b"
      },
      "source": [
        "ls -a"
      ],
      "execution_count": null,
      "outputs": [
        {
          "output_type": "stream",
          "text": [
            "\u001b[0m\u001b[01;34m.\u001b[0m/  \u001b[01;34m..\u001b[0m/  \u001b[01;34maclImdb\u001b[0m/  aclImdb_v1.tar.gz  \u001b[01;34m.config\u001b[0m/  \u001b[01;34msample_data\u001b[0m/\n"
          ],
          "name": "stdout"
        }
      ]
    },
    {
      "cell_type": "markdown",
      "metadata": {
        "id": "Nb5fGgLnjDCg"
      },
      "source": [
        "We have the data downloaded in the aclImdb folder. Lets explore the data\n",
        "\n",
        "We are printing the readme which has the description fo the **data**"
      ]
    },
    {
      "cell_type": "code",
      "metadata": {
        "id": "Fks0Gt5kjA1n",
        "colab": {
          "base_uri": "https://localhost:8080/",
          "height": 34
        },
        "outputId": "58002816-6b4b-4b23-81d2-4af2955c52a7"
      },
      "source": [
        "!ls -a aclImdb/"
      ],
      "execution_count": null,
      "outputs": [
        {
          "output_type": "stream",
          "text": [
            ".  ..  imdbEr.txt  imdb.vocab  README  test  train\n"
          ],
          "name": "stdout"
        }
      ]
    },
    {
      "cell_type": "code",
      "metadata": {
        "id": "cqnVhr6NjMgL",
        "colab": {
          "base_uri": "https://localhost:8080/",
          "height": 1000
        },
        "outputId": "5e4adf35-cd80-44b9-f82e-d32c24748586"
      },
      "source": [
        "!cat aclImdb/README"
      ],
      "execution_count": null,
      "outputs": [
        {
          "output_type": "stream",
          "text": [
            "Large Movie Review Dataset v1.0\n",
            "\n",
            "Overview\n",
            "\n",
            "This dataset contains movie reviews along with their associated binary\n",
            "sentiment polarity labels. It is intended to serve as a benchmark for\n",
            "sentiment classification. This document outlines how the dataset was\n",
            "gathered, and how to use the files provided. \n",
            "\n",
            "Dataset \n",
            "\n",
            "The core dataset contains 50,000 reviews split evenly into 25k train\n",
            "and 25k test sets. The overall distribution of labels is balanced (25k\n",
            "pos and 25k neg). We also include an additional 50,000 unlabeled\n",
            "documents for unsupervised learning. \n",
            "\n",
            "In the entire collection, no more than 30 reviews are allowed for any\n",
            "given movie because reviews for the same movie tend to have correlated\n",
            "ratings. Further, the train and test sets contain a disjoint set of\n",
            "movies, so no significant performance is obtained by memorizing\n",
            "movie-unique terms and their associated with observed labels.  In the\n",
            "labeled train/test sets, a negative review has a score <= 4 out of 10,\n",
            "and a positive review has a score >= 7 out of 10. Thus reviews with\n",
            "more neutral ratings are not included in the train/test sets. In the\n",
            "unsupervised set, reviews of any rating are included and there are an\n",
            "even number of reviews > 5 and <= 5.\n",
            "\n",
            "Files\n",
            "\n",
            "There are two top-level directories [train/, test/] corresponding to\n",
            "the training and test sets. Each contains [pos/, neg/] directories for\n",
            "the reviews with binary labels positive and negative. Within these\n",
            "directories, reviews are stored in text files named following the\n",
            "convention [[id]_[rating].txt] where [id] is a unique id and [rating] is\n",
            "the star rating for that review on a 1-10 scale. For example, the file\n",
            "[test/pos/200_8.txt] is the text for a positive-labeled test set\n",
            "example with unique id 200 and star rating 8/10 from IMDb. The\n",
            "[train/unsup/] directory has 0 for all ratings because the ratings are\n",
            "omitted for this portion of the dataset.\n",
            "\n",
            "We also include the IMDb URLs for each review in a separate\n",
            "[urls_[pos, neg, unsup].txt] file. A review with unique id 200 will\n",
            "have its URL on line 200 of this file. Due the ever-changing IMDb, we\n",
            "are unable to link directly to the review, but only to the movie's\n",
            "review page.\n",
            "\n",
            "In addition to the review text files, we include already-tokenized bag\n",
            "of words (BoW) features that were used in our experiments. These \n",
            "are stored in .feat files in the train/test directories. Each .feat\n",
            "file is in LIBSVM format, an ascii sparse-vector format for labeled\n",
            "data.  The feature indices in these files start from 0, and the text\n",
            "tokens corresponding to a feature index is found in [imdb.vocab]. So a\n",
            "line with 0:7 in a .feat file means the first word in [imdb.vocab]\n",
            "(the) appears 7 times in that review.\n",
            "\n",
            "LIBSVM page for details on .feat file format:\n",
            "http://www.csie.ntu.edu.tw/~cjlin/libsvm/\n",
            "\n",
            "We also include [imdbEr.txt] which contains the expected rating for\n",
            "each token in [imdb.vocab] as computed by (Potts, 2011). The expected\n",
            "rating is a good way to get a sense for the average polarity of a word\n",
            "in the dataset.\n",
            "\n",
            "Citing the dataset\n",
            "\n",
            "When using this dataset please cite our ACL 2011 paper which\n",
            "introduces it. This paper also contains classification results which\n",
            "you may want to compare against.\n",
            "\n",
            "\n",
            "@InProceedings{maas-EtAl:2011:ACL-HLT2011,\n",
            "  author    = {Maas, Andrew L.  and  Daly, Raymond E.  and  Pham, Peter T.  and  Huang, Dan  and  Ng, Andrew Y.  and  Potts, Christopher},\n",
            "  title     = {Learning Word Vectors for Sentiment Analysis},\n",
            "  booktitle = {Proceedings of the 49th Annual Meeting of the Association for Computational Linguistics: Human Language Technologies},\n",
            "  month     = {June},\n",
            "  year      = {2011},\n",
            "  address   = {Portland, Oregon, USA},\n",
            "  publisher = {Association for Computational Linguistics},\n",
            "  pages     = {142--150},\n",
            "  url       = {http://www.aclweb.org/anthology/P11-1015}\n",
            "}\n",
            "\n",
            "References\n",
            "\n",
            "Potts, Christopher. 2011. On the negativity of negation. In Nan Li and\n",
            "David Lutz, eds., Proceedings of Semantics and Linguistic Theory 20,\n",
            "636-659.\n",
            "\n",
            "Contact\n",
            "\n",
            "For questions/comments/corrections please contact Andrew Maas\n",
            "amaas@cs.stanford.edu\n"
          ],
          "name": "stdout"
        }
      ]
    },
    {
      "cell_type": "code",
      "metadata": {
        "id": "3JEKP00BjO2s",
        "colab": {
          "base_uri": "https://localhost:8080/",
          "height": 54
        },
        "outputId": "30ab235a-fa6e-493e-bbe8-176cffbd5450"
      },
      "source": [
        "!head -10 aclImdb/train/pos/4298_10.txt"
      ],
      "execution_count": null,
      "outputs": [
        {
          "output_type": "stream",
          "text": [
            "This movie awed me so much that I watch it at least once a year. At times I find it uncomfortable. At times I find it empowering. And I always find the characters human and real. It is a movie that shows you the gritty reality of life in LA, starting with the recurring helicopter search lights scanning for the dangers lurking so close to the ordinary lives being carried on by the characters. It is also a movie that shows you how the kindness of a stranger can change your life and empower you to make a difference. Grand Canyon reminds you that every action you take, whether intended or not, has powerful repercussions. I found this movie to be similar in many ways to Robert Altman's film Short Cuts. Both had a star-studded roster of perfectly cast actors & actresses and both movies allowed you to gradually see how the the characters interrelated with one another and affected each other, for better or worse. Grand Canyon did a better job of providing a cohesive message, (hope in the face of despairing reality), than Altman's film, although I found them both intriguing in their own way. This film is a definite must see!!!"
          ],
          "name": "stdout"
        }
      ]
    },
    {
      "cell_type": "markdown",
      "metadata": {
        "id": "g6NYWJhEjTvZ"
      },
      "source": [
        "Each of the reviews are kept as a file , so we have to merge them"
      ]
    },
    {
      "cell_type": "code",
      "metadata": {
        "id": "By0D1b0fjZjT"
      },
      "source": [
        "import glob\n",
        "import os\n",
        "def create_file(file_dir,final_file_name,label):\n",
        "  os.chdir(file_dir)\n",
        "  read_files = glob.glob(\"*.txt\")\n",
        "  with open(final_file_name, \"w\") as outfile:\n",
        "      for f in read_files:\n",
        "          with open(f, \"r\") as infile:\n",
        "              outfile.write(str(infile.read()) + '||' + label + '\\n')"
      ],
      "execution_count": null,
      "outputs": []
    },
    {
      "cell_type": "code",
      "metadata": {
        "id": "ALS_nofxjcYL",
        "colab": {
          "base_uri": "https://localhost:8080/",
          "height": 36
        },
        "outputId": "519a2e5f-3311-4db4-92e2-9ec399f89e8d"
      },
      "source": [
        "os.getcwd()"
      ],
      "execution_count": null,
      "outputs": [
        {
          "output_type": "execute_result",
          "data": {
            "application/vnd.google.colaboratory.intrinsic+json": {
              "type": "string"
            },
            "text/plain": [
              "'/content'"
            ]
          },
          "metadata": {
            "tags": []
          },
          "execution_count": 8
        }
      ]
    },
    {
      "cell_type": "code",
      "metadata": {
        "id": "j5UVeWz-jgkN"
      },
      "source": [
        "create_file('/content/aclImdb/train/pos','all_pos_comments.txt','1')"
      ],
      "execution_count": null,
      "outputs": []
    },
    {
      "cell_type": "code",
      "metadata": {
        "id": "fEv2L1C_jhlb"
      },
      "source": [
        "create_file('/content/aclImdb/train/neg','all_neg_comments.txt','0')"
      ],
      "execution_count": null,
      "outputs": []
    },
    {
      "cell_type": "markdown",
      "metadata": {
        "id": "7ee-Ajymjn8T"
      },
      "source": [
        "Finally we have processed the data and uploaded here in csv format for easy experimentation. "
      ]
    },
    {
      "cell_type": "code",
      "metadata": {
        "id": "jSaBfzGBjkx7"
      },
      "source": [
        "from google.colab import drive"
      ],
      "execution_count": null,
      "outputs": []
    },
    {
      "cell_type": "code",
      "metadata": {
        "id": "N6D-A0W4jy9H",
        "colab": {
          "base_uri": "https://localhost:8080/"
        },
        "outputId": "0de5e008-749b-4ac7-9687-cddcad0d4c05"
      },
      "source": [
        "drive.mount('/content/gdrive/')"
      ],
      "execution_count": null,
      "outputs": [
        {
          "output_type": "stream",
          "text": [
            "Drive already mounted at /content/gdrive/; to attempt to forcibly remount, call drive.mount(\"/content/gdrive/\", force_remount=True).\n"
          ],
          "name": "stdout"
        }
      ]
    },
    {
      "cell_type": "code",
      "metadata": {
        "id": "MacueiUwJByW",
        "colab": {
          "base_uri": "https://localhost:8080/"
        },
        "outputId": "d2f25efc-49f0-4326-8051-82eab8598ff3"
      },
      "source": [
        "ls"
      ],
      "execution_count": null,
      "outputs": [
        {
          "output_type": "stream",
          "text": [
            "\u001b[0m\u001b[01;34mgdrive\u001b[0m/  \u001b[01;34msample_data\u001b[0m/\n"
          ],
          "name": "stdout"
        }
      ]
    },
    {
      "cell_type": "code",
      "metadata": {
        "colab": {
          "base_uri": "https://localhost:8080/"
        },
        "id": "vK0ogifhe2fN",
        "outputId": "4e10278b-298b-461c-fc5a-6a8b4aefe4d6"
      },
      "source": [
        "ls -al gdrive/"
      ],
      "execution_count": null,
      "outputs": [
        {
          "output_type": "stream",
          "text": [
            "total 16\n",
            "dr-x------  2 root root 4096 Dec  1 18:02 \u001b[0m\u001b[01;34m.file-revisions-by-id\u001b[0m/\n",
            "drwx------ 12 root root 4096 Dec  1 18:02 \u001b[01;34mMyDrive\u001b[0m/\n",
            "dr-x------  2 root root 4096 Dec  1 18:02 \u001b[01;34m.shortcut-targets-by-id\u001b[0m/\n",
            "drwx------  2 root root 4096 Dec  1 18:02 \u001b[01;34m.Trash\u001b[0m/\n"
          ],
          "name": "stdout"
        }
      ]
    },
    {
      "cell_type": "code",
      "metadata": {
        "id": "KrpGf73IJF8N",
        "colab": {
          "base_uri": "https://localhost:8080/"
        },
        "outputId": "cce1e641-1848-493f-a6c6-25fa3b0d8d2c"
      },
      "source": [
        "ls -al /content/gdrive/MyDrive/Sem3/DL/project1/"
      ],
      "execution_count": null,
      "outputs": [
        {
          "output_type": "stream",
          "text": [
            "total 65040\n",
            "-rw------- 1 root root 66212309 Oct 19  2019 'IMDB Dataset.csv'\n",
            "drwx------ 2 root root     4096 Oct 19 14:53  \u001b[0m\u001b[01;34mmodel_artifacts\u001b[0m/\n",
            "-rw------- 1 root root   120560 Oct 31 15:52  Movie_Sentiment_Classification1.ipynb\n",
            "-rw------- 1 root root     8147 Oct 31 15:44  movie_sentiment_classification1.py\n",
            "-rw------- 1 root root   114624 Oct 31 15:52 'Movie Sentiment Classification2.ipynb'\n",
            "-rw------- 1 root root     8436 Oct 31 15:27  movie_sentiment_classification2.py\n",
            "-rw------- 1 root root   123887 Oct 31 14:40  Movie_Sentiment_Classification.ipynb\n",
            "-rw------- 1 root root     8104 Oct 31 14:40  movie_sentiment_classification.py\n"
          ],
          "name": "stdout"
        }
      ]
    },
    {
      "cell_type": "code",
      "metadata": {
        "id": "9LlHJwFwjzAv",
        "colab": {
          "base_uri": "https://localhost:8080/",
          "height": 204
        },
        "outputId": "fdf5adce-2b9f-4c13-fde0-d25816e52fe9"
      },
      "source": [
        "import pandas as pd\n",
        "\n",
        "imdb_data = pd.read_csv('/content/gdrive/MyDrive/Sem3/DL/project1/IMDB Dataset.csv')\n",
        "imdb_data.head()"
      ],
      "execution_count": null,
      "outputs": [
        {
          "output_type": "execute_result",
          "data": {
            "text/html": [
              "<div>\n",
              "<style scoped>\n",
              "    .dataframe tbody tr th:only-of-type {\n",
              "        vertical-align: middle;\n",
              "    }\n",
              "\n",
              "    .dataframe tbody tr th {\n",
              "        vertical-align: top;\n",
              "    }\n",
              "\n",
              "    .dataframe thead th {\n",
              "        text-align: right;\n",
              "    }\n",
              "</style>\n",
              "<table border=\"1\" class=\"dataframe\">\n",
              "  <thead>\n",
              "    <tr style=\"text-align: right;\">\n",
              "      <th></th>\n",
              "      <th>review</th>\n",
              "      <th>sentiment</th>\n",
              "    </tr>\n",
              "  </thead>\n",
              "  <tbody>\n",
              "    <tr>\n",
              "      <th>0</th>\n",
              "      <td>One of the other reviewers has mentioned that ...</td>\n",
              "      <td>positive</td>\n",
              "    </tr>\n",
              "    <tr>\n",
              "      <th>1</th>\n",
              "      <td>A wonderful little production. &lt;br /&gt;&lt;br /&gt;The...</td>\n",
              "      <td>positive</td>\n",
              "    </tr>\n",
              "    <tr>\n",
              "      <th>2</th>\n",
              "      <td>I thought this was a wonderful way to spend ti...</td>\n",
              "      <td>positive</td>\n",
              "    </tr>\n",
              "    <tr>\n",
              "      <th>3</th>\n",
              "      <td>Basically there's a family where a little boy ...</td>\n",
              "      <td>negative</td>\n",
              "    </tr>\n",
              "    <tr>\n",
              "      <th>4</th>\n",
              "      <td>Petter Mattei's \"Love in the Time of Money\" is...</td>\n",
              "      <td>positive</td>\n",
              "    </tr>\n",
              "  </tbody>\n",
              "</table>\n",
              "</div>"
            ],
            "text/plain": [
              "                                              review sentiment\n",
              "0  One of the other reviewers has mentioned that ...  positive\n",
              "1  A wonderful little production. <br /><br />The...  positive\n",
              "2  I thought this was a wonderful way to spend ti...  positive\n",
              "3  Basically there's a family where a little boy ...  negative\n",
              "4  Petter Mattei's \"Love in the Time of Money\" is...  positive"
            ]
          },
          "metadata": {
            "tags": []
          },
          "execution_count": 4
        }
      ]
    },
    {
      "cell_type": "code",
      "metadata": {
        "colab": {
          "base_uri": "https://localhost:8080/",
          "height": 650
        },
        "id": "LWp6xRyKfeYu",
        "outputId": "b4a09350-5f39-418d-fe02-d55ea0627f96"
      },
      "source": [
        "# Higher version of transformer might give error\n",
        "\n",
        "!pip install transformers==3"
      ],
      "execution_count": null,
      "outputs": [
        {
          "output_type": "stream",
          "text": [
            "Collecting transformers==3\n",
            "\u001b[?25l  Downloading https://files.pythonhosted.org/packages/9c/35/1c3f6e62d81f5f0daff1384e6d5e6c5758682a8357ebc765ece2b9def62b/transformers-3.0.0-py3-none-any.whl (754kB)\n",
            "\r\u001b[K     |▍                               | 10kB 15.5MB/s eta 0:00:01\r\u001b[K     |▉                               | 20kB 21.2MB/s eta 0:00:01\r\u001b[K     |█▎                              | 30kB 11.8MB/s eta 0:00:01\r\u001b[K     |█▊                              | 40kB 8.8MB/s eta 0:00:01\r\u001b[K     |██▏                             | 51kB 4.6MB/s eta 0:00:01\r\u001b[K     |██▋                             | 61kB 5.1MB/s eta 0:00:01\r\u001b[K     |███                             | 71kB 4.9MB/s eta 0:00:01\r\u001b[K     |███▌                            | 81kB 5.5MB/s eta 0:00:01\r\u001b[K     |████                            | 92kB 5.7MB/s eta 0:00:01\r\u001b[K     |████▍                           | 102kB 6.0MB/s eta 0:00:01\r\u001b[K     |████▊                           | 112kB 6.0MB/s eta 0:00:01\r\u001b[K     |█████▏                          | 122kB 6.0MB/s eta 0:00:01\r\u001b[K     |█████▋                          | 133kB 6.0MB/s eta 0:00:01\r\u001b[K     |██████                          | 143kB 6.0MB/s eta 0:00:01\r\u001b[K     |██████▌                         | 153kB 6.0MB/s eta 0:00:01\r\u001b[K     |███████                         | 163kB 6.0MB/s eta 0:00:01\r\u001b[K     |███████▍                        | 174kB 6.0MB/s eta 0:00:01\r\u001b[K     |███████▉                        | 184kB 6.0MB/s eta 0:00:01\r\u001b[K     |████████▎                       | 194kB 6.0MB/s eta 0:00:01\r\u001b[K     |████████▊                       | 204kB 6.0MB/s eta 0:00:01\r\u001b[K     |█████████▏                      | 215kB 6.0MB/s eta 0:00:01\r\u001b[K     |█████████▌                      | 225kB 6.0MB/s eta 0:00:01\r\u001b[K     |██████████                      | 235kB 6.0MB/s eta 0:00:01\r\u001b[K     |██████████▍                     | 245kB 6.0MB/s eta 0:00:01\r\u001b[K     |██████████▉                     | 256kB 6.0MB/s eta 0:00:01\r\u001b[K     |███████████▎                    | 266kB 6.0MB/s eta 0:00:01\r\u001b[K     |███████████▊                    | 276kB 6.0MB/s eta 0:00:01\r\u001b[K     |████████████▏                   | 286kB 6.0MB/s eta 0:00:01\r\u001b[K     |████████████▋                   | 296kB 6.0MB/s eta 0:00:01\r\u001b[K     |█████████████                   | 307kB 6.0MB/s eta 0:00:01\r\u001b[K     |█████████████▌                  | 317kB 6.0MB/s eta 0:00:01\r\u001b[K     |██████████████                  | 327kB 6.0MB/s eta 0:00:01\r\u001b[K     |██████████████▎                 | 337kB 6.0MB/s eta 0:00:01\r\u001b[K     |██████████████▊                 | 348kB 6.0MB/s eta 0:00:01\r\u001b[K     |███████████████▏                | 358kB 6.0MB/s eta 0:00:01\r\u001b[K     |███████████████▋                | 368kB 6.0MB/s eta 0:00:01\r\u001b[K     |████████████████                | 378kB 6.0MB/s eta 0:00:01\r\u001b[K     |████████████████▌               | 389kB 6.0MB/s eta 0:00:01\r\u001b[K     |█████████████████               | 399kB 6.0MB/s eta 0:00:01\r\u001b[K     |█████████████████▍              | 409kB 6.0MB/s eta 0:00:01\r\u001b[K     |█████████████████▉              | 419kB 6.0MB/s eta 0:00:01\r\u001b[K     |██████████████████▎             | 430kB 6.0MB/s eta 0:00:01\r\u001b[K     |██████████████████▊             | 440kB 6.0MB/s eta 0:00:01\r\u001b[K     |███████████████████             | 450kB 6.0MB/s eta 0:00:01\r\u001b[K     |███████████████████▌            | 460kB 6.0MB/s eta 0:00:01\r\u001b[K     |████████████████████            | 471kB 6.0MB/s eta 0:00:01\r\u001b[K     |████████████████████▍           | 481kB 6.0MB/s eta 0:00:01\r\u001b[K     |████████████████████▉           | 491kB 6.0MB/s eta 0:00:01\r\u001b[K     |█████████████████████▎          | 501kB 6.0MB/s eta 0:00:01\r\u001b[K     |█████████████████████▊          | 512kB 6.0MB/s eta 0:00:01\r\u001b[K     |██████████████████████▏         | 522kB 6.0MB/s eta 0:00:01\r\u001b[K     |██████████████████████▋         | 532kB 6.0MB/s eta 0:00:01\r\u001b[K     |███████████████████████         | 542kB 6.0MB/s eta 0:00:01\r\u001b[K     |███████████████████████▌        | 552kB 6.0MB/s eta 0:00:01\r\u001b[K     |███████████████████████▉        | 563kB 6.0MB/s eta 0:00:01\r\u001b[K     |████████████████████████▎       | 573kB 6.0MB/s eta 0:00:01\r\u001b[K     |████████████████████████▊       | 583kB 6.0MB/s eta 0:00:01\r\u001b[K     |█████████████████████████▏      | 593kB 6.0MB/s eta 0:00:01\r\u001b[K     |█████████████████████████▋      | 604kB 6.0MB/s eta 0:00:01\r\u001b[K     |██████████████████████████      | 614kB 6.0MB/s eta 0:00:01\r\u001b[K     |██████████████████████████▌     | 624kB 6.0MB/s eta 0:00:01\r\u001b[K     |███████████████████████████     | 634kB 6.0MB/s eta 0:00:01\r\u001b[K     |███████████████████████████▍    | 645kB 6.0MB/s eta 0:00:01\r\u001b[K     |███████████████████████████▉    | 655kB 6.0MB/s eta 0:00:01\r\u001b[K     |████████████████████████████▎   | 665kB 6.0MB/s eta 0:00:01\r\u001b[K     |████████████████████████████▋   | 675kB 6.0MB/s eta 0:00:01\r\u001b[K     |█████████████████████████████   | 686kB 6.0MB/s eta 0:00:01\r\u001b[K     |█████████████████████████████▌  | 696kB 6.0MB/s eta 0:00:01\r\u001b[K     |██████████████████████████████  | 706kB 6.0MB/s eta 0:00:01\r\u001b[K     |██████████████████████████████▍ | 716kB 6.0MB/s eta 0:00:01\r\u001b[K     |██████████████████████████████▉ | 727kB 6.0MB/s eta 0:00:01\r\u001b[K     |███████████████████████████████▎| 737kB 6.0MB/s eta 0:00:01\r\u001b[K     |███████████████████████████████▊| 747kB 6.0MB/s eta 0:00:01\r\u001b[K     |████████████████████████████████| 757kB 6.0MB/s \n",
            "\u001b[?25hRequirement already satisfied: tqdm>=4.27 in /usr/local/lib/python3.6/dist-packages (from transformers==3) (4.41.1)\n",
            "Requirement already satisfied: filelock in /usr/local/lib/python3.6/dist-packages (from transformers==3) (3.0.12)\n",
            "Requirement already satisfied: regex!=2019.12.17 in /usr/local/lib/python3.6/dist-packages (from transformers==3) (2019.12.20)\n",
            "Collecting tokenizers==0.8.0-rc4\n",
            "\u001b[?25l  Downloading https://files.pythonhosted.org/packages/e8/bd/e5abec46af977c8a1375c1dca7cb1e5b3ec392ef279067af7f6bc50491a0/tokenizers-0.8.0rc4-cp36-cp36m-manylinux1_x86_64.whl (3.0MB)\n",
            "\u001b[K     |████████████████████████████████| 3.0MB 30.1MB/s \n",
            "\u001b[?25hRequirement already satisfied: packaging in /usr/local/lib/python3.6/dist-packages (from transformers==3) (20.4)\n",
            "Requirement already satisfied: sentencepiece in /usr/local/lib/python3.6/dist-packages (from transformers==3) (0.1.91)\n",
            "Requirement already satisfied: dataclasses; python_version < \"3.7\" in /usr/local/lib/python3.6/dist-packages (from transformers==3) (0.8)\n",
            "Requirement already satisfied: requests in /usr/local/lib/python3.6/dist-packages (from transformers==3) (2.23.0)\n",
            "Requirement already satisfied: sacremoses in /usr/local/lib/python3.6/dist-packages (from transformers==3) (0.0.43)\n",
            "Requirement already satisfied: numpy in /usr/local/lib/python3.6/dist-packages (from transformers==3) (1.18.5)\n",
            "Requirement already satisfied: pyparsing>=2.0.2 in /usr/local/lib/python3.6/dist-packages (from packaging->transformers==3) (2.4.7)\n",
            "Requirement already satisfied: six in /usr/local/lib/python3.6/dist-packages (from packaging->transformers==3) (1.15.0)\n",
            "Requirement already satisfied: chardet<4,>=3.0.2 in /usr/local/lib/python3.6/dist-packages (from requests->transformers==3) (3.0.4)\n",
            "Requirement already satisfied: urllib3!=1.25.0,!=1.25.1,<1.26,>=1.21.1 in /usr/local/lib/python3.6/dist-packages (from requests->transformers==3) (1.24.3)\n",
            "Requirement already satisfied: certifi>=2017.4.17 in /usr/local/lib/python3.6/dist-packages (from requests->transformers==3) (2020.11.8)\n",
            "Requirement already satisfied: idna<3,>=2.5 in /usr/local/lib/python3.6/dist-packages (from requests->transformers==3) (2.10)\n",
            "Requirement already satisfied: click in /usr/local/lib/python3.6/dist-packages (from sacremoses->transformers==3) (7.1.2)\n",
            "Requirement already satisfied: joblib in /usr/local/lib/python3.6/dist-packages (from sacremoses->transformers==3) (0.17.0)\n",
            "Installing collected packages: tokenizers, transformers\n",
            "  Found existing installation: tokenizers 0.8.1rc2\n",
            "    Uninstalling tokenizers-0.8.1rc2:\n",
            "      Successfully uninstalled tokenizers-0.8.1rc2\n",
            "  Found existing installation: transformers 3.3.0\n",
            "    Uninstalling transformers-3.3.0:\n",
            "      Successfully uninstalled transformers-3.3.0\n",
            "Successfully installed tokenizers-0.8.0rc4 transformers-3.0.0\n"
          ],
          "name": "stdout"
        },
        {
          "output_type": "display_data",
          "data": {
            "application/vnd.colab-display-data+json": {
              "pip_warning": {
                "packages": [
                  "tokenizers",
                  "transformers"
                ]
              }
            }
          },
          "metadata": {
            "tags": []
          }
        }
      ]
    },
    {
      "cell_type": "code",
      "metadata": {
        "colab": {
          "base_uri": "https://localhost:8080/",
          "height": 164,
          "referenced_widgets": [
            "de3301a7c9c84627a206bc3a9cacd227",
            "5b98017026394a48974166f080c84907",
            "3948042e5ec74e63a5306e1a2b4f55b5",
            "e0cf2e4fe149419ca043458c0229908a",
            "39059e1d6c7245c1ada90b44fd6b6cee",
            "bef5cc39a1f748b088ad2632c9dca240",
            "ba3c60832af945e98d938b0daeb27c94",
            "9f591ce63ef2476a98582fd5176c3b24",
            "a5e501ed98cc41e7b266474f2acc5dd5",
            "42977816444847bc84fc37d043f8e64c",
            "e5a63b0731ef49efb71e613d571a4755",
            "83aa5167e74f440d9b476f99f1bc5b47",
            "fb147e05e68e47499cfe502d69e6ae5b",
            "0565f10d4af2495185e7bc0c2c229dea",
            "5040d647ac474c94a35eea5efd0db55e",
            "bbeefe89f02d468a8733a0dbba04d54b",
            "5d32667a1c18476795c4b23ede821346",
            "75278de502ff4782b06c32e5b2dee3ef",
            "f6516484baad4a7894e41c43ac986687",
            "a399958397fb40f9b0313f9a4434d90c",
            "e7b4e515fbc04ae99b9794393b259bb5",
            "c5316eed2d6f4a5c902394eb6d955ea7",
            "94c94379b61149fd896a967460dce688",
            "73b1cabf3e244d9d9adfde06935e86d0"
          ]
        },
        "id": "8Etjfk_meB6w",
        "outputId": "1f06be79-53e8-4d32-e6c7-c54861467e29"
      },
      "source": [
        "import numpy as np\n",
        "import torch\n",
        "import torch.nn as nn\n",
        "from torch.utils.data import TensorDataset, DataLoader, RandomSampler, SequentialSampler\n",
        "from sklearn.model_selection import train_test_split\n",
        "from sklearn.utils.class_weight import compute_class_weight\n",
        "from sklearn.metrics import classification_report\n",
        "import transformers\n",
        "from transformers import AutoModel, BertTokenizerFast\n",
        "from matplotlib import pyplot as plt\n",
        "# optimizer from hugging face transformers\n",
        "from transformers import AdamW\n",
        "# import BERT-base pretrained model\n",
        "bert = AutoModel.from_pretrained('bert-base-uncased')\n",
        "# Load the BERT tokenizer\n",
        "tokenizer = BertTokenizerFast.from_pretrained('bert-base-uncased')\n",
        "EPOCHS=3\n",
        "BERT_MODEL_SAVE = '/content/gdrive/MyDrive/Sem3/DL/project1//model_artifacts/bert_weights.pt'"
      ],
      "execution_count": null,
      "outputs": [
        {
          "output_type": "display_data",
          "data": {
            "application/vnd.jupyter.widget-view+json": {
              "model_id": "de3301a7c9c84627a206bc3a9cacd227",
              "version_minor": 0,
              "version_major": 2
            },
            "text/plain": [
              "HBox(children=(FloatProgress(value=0.0, description='Downloading', max=433.0, style=ProgressStyle(description_…"
            ]
          },
          "metadata": {
            "tags": []
          }
        },
        {
          "output_type": "stream",
          "text": [
            "\n"
          ],
          "name": "stdout"
        },
        {
          "output_type": "display_data",
          "data": {
            "application/vnd.jupyter.widget-view+json": {
              "model_id": "a5e501ed98cc41e7b266474f2acc5dd5",
              "version_minor": 0,
              "version_major": 2
            },
            "text/plain": [
              "HBox(children=(FloatProgress(value=0.0, description='Downloading', max=440473133.0, style=ProgressStyle(descri…"
            ]
          },
          "metadata": {
            "tags": []
          }
        },
        {
          "output_type": "stream",
          "text": [
            "\n"
          ],
          "name": "stdout"
        },
        {
          "output_type": "display_data",
          "data": {
            "application/vnd.jupyter.widget-view+json": {
              "model_id": "5d32667a1c18476795c4b23ede821346",
              "version_minor": 0,
              "version_major": 2
            },
            "text/plain": [
              "HBox(children=(FloatProgress(value=0.0, description='Downloading', max=231508.0, style=ProgressStyle(descripti…"
            ]
          },
          "metadata": {
            "tags": []
          }
        },
        {
          "output_type": "stream",
          "text": [
            "\n"
          ],
          "name": "stdout"
        }
      ]
    },
    {
      "cell_type": "markdown",
      "metadata": {
        "id": "c3eBl6aelI_v"
      },
      "source": [
        "Review column has html tags . We have to get rid of those\n",
        "\n"
      ]
    },
    {
      "cell_type": "code",
      "metadata": {
        "id": "YfAeJCV1jzDq"
      },
      "source": [
        "import re\n",
        "\n",
        "def cleanhtml(raw_html):\n",
        "  cleanr = re.compile('<.*?>')\n",
        "  cleantext = re.sub(cleanr, '', raw_html)\n",
        "  return cleantext"
      ],
      "execution_count": null,
      "outputs": []
    },
    {
      "cell_type": "code",
      "metadata": {
        "id": "2PeVg8B0jzGp",
        "colab": {
          "base_uri": "https://localhost:8080/",
          "height": 204
        },
        "outputId": "7c64afdf-25b6-4210-d435-1c26172923a4"
      },
      "source": [
        "imdb_data['clean_review'] = imdb_data['review'].apply(cleanhtml)\n",
        "imdb_data['label'] = imdb_data['sentiment'].apply(lambda x: 1 if x=='positive' else 0)\n",
        "\n",
        "imdb_data.head()"
      ],
      "execution_count": null,
      "outputs": [
        {
          "output_type": "execute_result",
          "data": {
            "text/html": [
              "<div>\n",
              "<style scoped>\n",
              "    .dataframe tbody tr th:only-of-type {\n",
              "        vertical-align: middle;\n",
              "    }\n",
              "\n",
              "    .dataframe tbody tr th {\n",
              "        vertical-align: top;\n",
              "    }\n",
              "\n",
              "    .dataframe thead th {\n",
              "        text-align: right;\n",
              "    }\n",
              "</style>\n",
              "<table border=\"1\" class=\"dataframe\">\n",
              "  <thead>\n",
              "    <tr style=\"text-align: right;\">\n",
              "      <th></th>\n",
              "      <th>review</th>\n",
              "      <th>sentiment</th>\n",
              "      <th>clean_review</th>\n",
              "      <th>label</th>\n",
              "    </tr>\n",
              "  </thead>\n",
              "  <tbody>\n",
              "    <tr>\n",
              "      <th>0</th>\n",
              "      <td>One of the other reviewers has mentioned that ...</td>\n",
              "      <td>positive</td>\n",
              "      <td>One of the other reviewers has mentioned that ...</td>\n",
              "      <td>1</td>\n",
              "    </tr>\n",
              "    <tr>\n",
              "      <th>1</th>\n",
              "      <td>A wonderful little production. &lt;br /&gt;&lt;br /&gt;The...</td>\n",
              "      <td>positive</td>\n",
              "      <td>A wonderful little production. The filming tec...</td>\n",
              "      <td>1</td>\n",
              "    </tr>\n",
              "    <tr>\n",
              "      <th>2</th>\n",
              "      <td>I thought this was a wonderful way to spend ti...</td>\n",
              "      <td>positive</td>\n",
              "      <td>I thought this was a wonderful way to spend ti...</td>\n",
              "      <td>1</td>\n",
              "    </tr>\n",
              "    <tr>\n",
              "      <th>3</th>\n",
              "      <td>Basically there's a family where a little boy ...</td>\n",
              "      <td>negative</td>\n",
              "      <td>Basically there's a family where a little boy ...</td>\n",
              "      <td>0</td>\n",
              "    </tr>\n",
              "    <tr>\n",
              "      <th>4</th>\n",
              "      <td>Petter Mattei's \"Love in the Time of Money\" is...</td>\n",
              "      <td>positive</td>\n",
              "      <td>Petter Mattei's \"Love in the Time of Money\" is...</td>\n",
              "      <td>1</td>\n",
              "    </tr>\n",
              "  </tbody>\n",
              "</table>\n",
              "</div>"
            ],
            "text/plain": [
              "                                              review  ... label\n",
              "0  One of the other reviewers has mentioned that ...  ...     1\n",
              "1  A wonderful little production. <br /><br />The...  ...     1\n",
              "2  I thought this was a wonderful way to spend ti...  ...     1\n",
              "3  Basically there's a family where a little boy ...  ...     0\n",
              "4  Petter Mattei's \"Love in the Time of Money\" is...  ...     1\n",
              "\n",
              "[5 rows x 4 columns]"
            ]
          },
          "metadata": {
            "tags": []
          },
          "execution_count": 7
        }
      ]
    },
    {
      "cell_type": "code",
      "metadata": {
        "id": "mxmZzWRNfeoQ"
      },
      "source": [
        "def create_token(sent_list):\n",
        "    if type(sent_list) != list:\n",
        "        sent_list = list(sent_list)\n",
        "    tokens = tokenizer.batch_encode_plus(\n",
        "        sent_list,\n",
        "        max_length=25,\n",
        "        pad_to_max_length=True,\n",
        "        truncation=True\n",
        "    )\n",
        "    return tokens\n",
        "\n",
        "\n",
        "def get_seq_mask(tokens):\n",
        "    seq = torch.tensor(tokens['input_ids'])\n",
        "    mask = torch.tensor(tokens['attention_mask'])\n",
        "    return seq , mask\n",
        "\n",
        "def create_dataloader(tokens,y,train=True):\n",
        "    batch_size = 32\n",
        "    ## convert lists to tensors\n",
        "    seq, mask = get_seq_mask(tokens)\n",
        "    y_tensor = torch.tensor(y)\n",
        "    # wrap tensors\n",
        "    tensor_wrap_x_y = TensorDataset(seq, mask, y_tensor)\n",
        "    if train:\n",
        "        # sampler for sampling the data during training\n",
        "        sampler = RandomSampler(tensor_wrap_x_y)\n",
        "    else:\n",
        "        sampler = SequentialSampler(tensor_wrap_x_y)\n",
        "    # dataLoader for training and validation\n",
        "    dataloader = DataLoader(tensor_wrap_x_y, sampler=sampler, batch_size=batch_size)\n",
        "    return dataloader\n",
        "\n",
        "\n",
        "\n",
        "class BERT_Arch(nn.Module):\n",
        "    def __init__(self, bert):\n",
        "        super(BERT_Arch, self).__init__()\n",
        "        self.bert = bert\n",
        "        # dropout layer\n",
        "        self.dropout = nn.Dropout(0.1)\n",
        "        # relu activation function\n",
        "        self.relu = nn.ReLU()\n",
        "        # dense layer 1\n",
        "        self.fc1 = nn.Linear(768, 512)\n",
        "        # dense layer 2 (Output layer)\n",
        "        self.fc2 = nn.Linear(512, 2)\n",
        "        # softmax activation function\n",
        "        self.softmax = nn.LogSoftmax(dim=1)\n",
        "\n",
        "    # define the forward pass\n",
        "    def forward(self, sent_id, mask):\n",
        "        # pass the inputs to the model\n",
        "        _, cls_hs = self.bert(sent_id, attention_mask=mask)\n",
        "        x = self.fc1(cls_hs)\n",
        "        x = self.relu(x)\n",
        "        x = self.dropout(x)\n",
        "        # output layer\n",
        "        x = self.fc2(x)\n",
        "        # apply softmax activation\n",
        "        x = self.softmax(x)\n",
        "        return x\n",
        "\n",
        "\n",
        "## Fine tune BERT\n",
        "\n",
        "# function to train the model\n",
        "def train(train_dataloader):\n",
        "    model.train()\n",
        "    total_loss, total_accuracy = 0, 0\n",
        "    # empty list to save model predictions\n",
        "    total_preds = []\n",
        "    # iterate over batches\n",
        "    for step, batch in enumerate(train_dataloader):\n",
        "        # progress update after every 50 batches.\n",
        "        if step % 50 == 0 and not step == 0:\n",
        "            print('  Batch {:>5,}  of  {:>5,}.'.format(step, len(train_dataloader)))\n",
        "        #         # push the batch to gpu\n",
        "        #         batch = [r.to(device) for r in batch]\n",
        "        sent_id, mask, labels = batch\n",
        "        # clear previously calculated gradients\n",
        "        model.zero_grad()\n",
        "        # get model predictions for the current batch\n",
        "        preds = model(sent_id, mask)\n",
        "        # compute the loss between actual and predicted values\n",
        "        loss = cross_entropy(preds, labels)\n",
        "        # add on to the total loss\n",
        "        total_loss = total_loss + loss.item()\n",
        "        # backward pass to calculate the gradients\n",
        "        loss.backward()\n",
        "        # clip the the gradients to 1.0. It helps in preventing the exploding gradient problem\n",
        "        torch.nn.utils.clip_grad_norm_(model.parameters(), 1.0)\n",
        "        # update parameters\n",
        "        optimizer.step()\n",
        "        # model predictions are stored on GPU. So, push it to CPU\n",
        "        preds = preds.detach().cpu().numpy()\n",
        "        # append the model predictions\n",
        "        total_preds.append(preds)\n",
        "    # compute the training loss of the epoch\n",
        "    avg_loss = total_loss / len(train_dataloader)\n",
        "    # predictions are in the form of (no. of batches, size of batch, no. of classes).\n",
        "    # reshape the predictions in form of (number of samples, no. of classes)\n",
        "    total_preds = np.concatenate(total_preds, axis=0)\n",
        "    # returns the loss and predictions\n",
        "    return avg_loss, total_preds\n",
        "\n",
        "\n",
        "# function for evaluating the model\n",
        "def evaluate(val_dataloader):\n",
        "    print(\"\\nEvaluating...\")\n",
        "    # deactivate dropout layers\n",
        "    model.eval()\n",
        "    total_loss, total_accuracy = 0, 0\n",
        "    # empty list to save the model predictions\n",
        "    total_preds = []\n",
        "    # iterate over batches\n",
        "    for step, batch in enumerate(val_dataloader):\n",
        "        # Progress update every 50 batches.\n",
        "        if step % 50 == 0 and not step == 0:\n",
        "            print('  Batch {:>5,}  of  {:>5,}.'.format(step, len(val_dataloader)))\n",
        "        #         # push the batch to gpu\n",
        "        #         batch = [t.to(device) for t in batch]\n",
        "        sent_id, mask, labels = batch\n",
        "    # deactivate autograd\n",
        "    with torch.no_grad():\n",
        "        # model predictions\n",
        "        preds = model(sent_id, mask)\n",
        "        # compute the validation loss between actual and predicted values\n",
        "        loss = cross_entropy(preds, labels)\n",
        "        total_loss = total_loss + loss.item()\n",
        "        preds = preds.detach().cpu().numpy()\n",
        "        total_preds.append(preds)\n",
        "    # compute the validation loss of the epoch\n",
        "    avg_loss = total_loss / len(val_dataloader)\n",
        "    # reshape the predictions in form of (number of samples, no. of classes)\n",
        "    total_preds = np.concatenate(total_preds, axis=0)\n",
        "    return avg_loss, total_preds\n",
        "\n",
        "\n",
        "def model_train_validation(train_dataloader,val_dataloader):\n",
        "    # set initial loss to infinite\n",
        "    best_valid_loss = float('inf')\n",
        "    # empty lists to store training and validation loss of each epoch\n",
        "    train_losses = []\n",
        "    valid_losses = []\n",
        "    # for each epoch\n",
        "    for epoch in range(EPOCHS):\n",
        "        print('\\n Epoch {:} / {:}'.format(epoch + 1, EPOCHS))\n",
        "        # train model\n",
        "        train_loss, _ = train(train_dataloader)\n",
        "        # evaluate model\n",
        "        valid_loss, _ = evaluate(val_dataloader)\n",
        "        # save the best model\n",
        "        if valid_loss < best_valid_loss:\n",
        "            best_valid_loss = valid_loss\n",
        "            torch.save(model.state_dict(), BERT_MODEL_SAVE)\n",
        "        # append training and validation loss\n",
        "        train_losses.append(train_loss)\n",
        "        valid_losses.append(valid_loss)\n",
        "        print(f'\\nTraining Loss: {train_loss:.3f}')\n",
        "        print(f'Validation Loss: {valid_loss:.3f}')\n",
        "\n",
        "def score_model_new_data(list_sentences):\n",
        "    # load weights of best model\n",
        "    path = BERT_MODEL_SAVE\n",
        "    model = BERT_Arch(bert)\n",
        "    model.load_state_dict(torch.load(path))\n",
        "    text_sent , text_sent_mask = get_seq_mask(list_sentences)\n",
        "    sent_predict = model(text_sent, text_sent_mask)\n",
        "    prediction = np.argmax(sent_predict.detach().cpu().numpy(), axis = 1)\n",
        "    return prediction\n"
      ],
      "execution_count": null,
      "outputs": []
    },
    {
      "cell_type": "code",
      "metadata": {
        "id": "1HQEkTmAl3W_",
        "colab": {
          "base_uri": "https://localhost:8080/"
        },
        "outputId": "e78816f5-1744-427e-b157-72aba8c17b22"
      },
      "source": [
        "from sklearn.model_selection import train_test_split\n",
        "\n",
        "X_train, X_test, y_train, y_test = train_test_split(imdb_data['clean_review'].values, imdb_data['label'].values, test_size=0.2)\n",
        "\n",
        "X_train, X_cv, y_train, y_cv = train_test_split(X_train, y_train, test_size=0.4)\n",
        "\n",
        "print(\"Shape of train data:\", len(X_train))\n",
        "print(\"Shape of CV data:\", len(X_cv))\n",
        "print(\"Shape of test data:\", len(X_test))"
      ],
      "execution_count": null,
      "outputs": [
        {
          "output_type": "stream",
          "text": [
            "Shape of train data: 24000\n",
            "Shape of CV data: 16000\n",
            "Shape of test data: 10000\n"
          ],
          "name": "stdout"
        }
      ]
    },
    {
      "cell_type": "code",
      "metadata": {
        "id": "Fnt5zjUXgZol"
      },
      "source": [
        "tokens_train = create_token(X_train)\n",
        "tokens_val = create_token(X_cv)"
      ],
      "execution_count": null,
      "outputs": []
    },
    {
      "cell_type": "code",
      "metadata": {
        "id": "mePQCSeegZtz"
      },
      "source": [
        "train_dataloader = create_dataloader(tokens_train,y_train)\n",
        "val_dataloader = create_dataloader(tokens_val,y_cv,train=False)"
      ],
      "execution_count": null,
      "outputs": []
    },
    {
      "cell_type": "code",
      "metadata": {
        "colab": {
          "base_uri": "https://localhost:8080/"
        },
        "id": "kNTLrr7tgZzJ",
        "outputId": "83852b51-51d0-4662-9bbe-d05d88fda252"
      },
      "source": [
        "# freeze all the parameters\n",
        "for param in bert.parameters():\n",
        "    param.requires_grad = False\n",
        "# pass the pre-trained BERT to our define architecture\n",
        "model = BERT_Arch(bert)\n",
        "optimizer = AdamW(model.parameters(), lr=1e-5)\n",
        "# compute the class weights\n",
        "class_weights = compute_class_weight('balanced', np.unique(y_train), y_train)\n",
        "# converting list of class weights to a tensor\n",
        "weights = torch.tensor(class_weights, dtype=torch.float)\n",
        "# define the loss function\n",
        "cross_entropy = nn.NLLLoss(weight=weights)\n",
        "model_train_validation(train_dataloader, val_dataloader)"
      ],
      "execution_count": null,
      "outputs": [
        {
          "output_type": "stream",
          "text": [
            "\n",
            " Epoch 1 / 3\n",
            "  Batch    50  of    750.\n",
            "  Batch   100  of    750.\n",
            "  Batch   150  of    750.\n",
            "  Batch   200  of    750.\n",
            "  Batch   250  of    750.\n",
            "  Batch   300  of    750.\n",
            "  Batch   350  of    750.\n",
            "  Batch   400  of    750.\n",
            "  Batch   450  of    750.\n",
            "  Batch   500  of    750.\n",
            "  Batch   550  of    750.\n",
            "  Batch   600  of    750.\n",
            "  Batch   650  of    750.\n",
            "  Batch   700  of    750.\n",
            "\n",
            "Evaluating...\n",
            "  Batch    50  of    500.\n",
            "  Batch   100  of    500.\n",
            "  Batch   150  of    500.\n",
            "  Batch   200  of    500.\n",
            "  Batch   250  of    500.\n",
            "  Batch   300  of    500.\n",
            "  Batch   350  of    500.\n",
            "  Batch   400  of    500.\n",
            "  Batch   450  of    500.\n",
            "\n",
            "Training Loss: 0.688\n",
            "Validation Loss: 0.001\n",
            "\n",
            " Epoch 2 / 3\n",
            "  Batch    50  of    750.\n",
            "  Batch   100  of    750.\n",
            "  Batch   150  of    750.\n",
            "  Batch   200  of    750.\n",
            "  Batch   250  of    750.\n",
            "  Batch   300  of    750.\n",
            "  Batch   350  of    750.\n",
            "  Batch   400  of    750.\n",
            "  Batch   450  of    750.\n",
            "  Batch   500  of    750.\n",
            "  Batch   550  of    750.\n",
            "  Batch   600  of    750.\n",
            "  Batch   650  of    750.\n",
            "  Batch   700  of    750.\n",
            "\n",
            "Evaluating...\n",
            "  Batch    50  of    500.\n",
            "  Batch   100  of    500.\n",
            "  Batch   150  of    500.\n",
            "  Batch   200  of    500.\n",
            "  Batch   250  of    500.\n",
            "  Batch   300  of    500.\n",
            "  Batch   350  of    500.\n",
            "  Batch   400  of    500.\n",
            "  Batch   450  of    500.\n",
            "\n",
            "Training Loss: 0.678\n",
            "Validation Loss: 0.001\n",
            "\n",
            " Epoch 3 / 3\n",
            "  Batch    50  of    750.\n",
            "  Batch   100  of    750.\n",
            "  Batch   150  of    750.\n",
            "  Batch   200  of    750.\n",
            "  Batch   250  of    750.\n"
          ],
          "name": "stdout"
        }
      ]
    },
    {
      "cell_type": "code",
      "metadata": {
        "id": "xlfmwCmtgaDk"
      },
      "source": [
        "# sample data\n",
        "text = [ \"I would have felt wonderful by doing anything else but not watching movie\", \"This movie was awesome\"]\n",
        "print(*zip(text,score_model_new_data(create_token(text))))\n",
        "y_test_pred = score_model_new_data(create_token(X_test))\n",
        "print(classification_report(y_pred=y_test_pred, y_true=y_test))"
      ],
      "execution_count": 2,
      "outputs": []
    },
    {
      "cell_type": "code",
      "metadata": {
        "id": "GFq5gz-pgaO1"
      },
      "source": [
        ""
      ],
      "execution_count": null,
      "outputs": []
    },
    {
      "cell_type": "code",
      "metadata": {
        "id": "cowwDs2vgaJf"
      },
      "source": [
        ""
      ],
      "execution_count": null,
      "outputs": []
    }
  ]
}