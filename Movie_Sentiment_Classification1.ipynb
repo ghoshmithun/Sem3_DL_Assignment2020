{
  "nbformat": 4,
  "nbformat_minor": 0,
  "metadata": {
    "colab": {
      "name": "Movie Sentiment Classification1.ipynb",
      "provenance": [],
      "include_colab_link": true
    },
    "kernelspec": {
      "name": "python3",
      "display_name": "Python 3"
    }
  },
  "cells": [
    {
      "cell_type": "markdown",
      "metadata": {
        "id": "view-in-github",
        "colab_type": "text"
      },
      "source": [
        "<a href=\"https://colab.research.google.com/github/ghoshmithun/Sem3_DL_Assignment2020/blob/main/Movie_Sentiment_Classification1.ipynb\" target=\"_parent\"><img src=\"https://colab.research.google.com/assets/colab-badge.svg\" alt=\"Open In Colab\"/></a>"
      ]
    },
    {
      "cell_type": "code",
      "metadata": {
        "id": "mYCO2_hkiz0P",
        "outputId": "d12d52eb-1d7d-460c-fbdf-b49354d3225c",
        "colab": {
          "base_uri": "https://localhost:8080/",
          "height": 208
        }
      },
      "source": [
        "!wget http://ai.stanford.edu/~amaas/data/sentiment/aclImdb_v1.tar.gz"
      ],
      "execution_count": null,
      "outputs": [
        {
          "output_type": "stream",
          "text": [
            "--2020-10-19 15:46:44--  http://ai.stanford.edu/~amaas/data/sentiment/aclImdb_v1.tar.gz\n",
            "Resolving ai.stanford.edu (ai.stanford.edu)... 171.64.68.10\n",
            "Connecting to ai.stanford.edu (ai.stanford.edu)|171.64.68.10|:80... connected.\n",
            "HTTP request sent, awaiting response... 200 OK\n",
            "Length: 84125825 (80M) [application/x-gzip]\n",
            "Saving to: ‘aclImdb_v1.tar.gz’\n",
            "\n",
            "aclImdb_v1.tar.gz   100%[===================>]  80.23M  21.7MB/s    in 5.3s    \n",
            "\n",
            "2020-10-19 15:46:49 (15.1 MB/s) - ‘aclImdb_v1.tar.gz’ saved [84125825/84125825]\n",
            "\n"
          ],
          "name": "stdout"
        }
      ]
    },
    {
      "cell_type": "code",
      "metadata": {
        "id": "wJIeSiTFi-aU"
      },
      "source": [
        "!tar -xzf aclImdb_v1.tar.gz "
      ],
      "execution_count": null,
      "outputs": []
    },
    {
      "cell_type": "code",
      "metadata": {
        "id": "YhYEfRGNjAyl",
        "outputId": "5ba03aba-bfe2-402f-ec9f-3792e50d612b",
        "colab": {
          "base_uri": "https://localhost:8080/",
          "height": 34
        }
      },
      "source": [
        "ls -a"
      ],
      "execution_count": null,
      "outputs": [
        {
          "output_type": "stream",
          "text": [
            "\u001b[0m\u001b[01;34m.\u001b[0m/  \u001b[01;34m..\u001b[0m/  \u001b[01;34maclImdb\u001b[0m/  aclImdb_v1.tar.gz  \u001b[01;34m.config\u001b[0m/  \u001b[01;34msample_data\u001b[0m/\n"
          ],
          "name": "stdout"
        }
      ]
    },
    {
      "cell_type": "markdown",
      "metadata": {
        "id": "Nb5fGgLnjDCg"
      },
      "source": [
        "We have the data downloaded in the aclImdb folder. Lets explore the data\n",
        "\n",
        "We are printing the readme which has the description fo the **data**"
      ]
    },
    {
      "cell_type": "code",
      "metadata": {
        "id": "Fks0Gt5kjA1n",
        "outputId": "58002816-6b4b-4b23-81d2-4af2955c52a7",
        "colab": {
          "base_uri": "https://localhost:8080/",
          "height": 34
        }
      },
      "source": [
        "!ls -a aclImdb/"
      ],
      "execution_count": null,
      "outputs": [
        {
          "output_type": "stream",
          "text": [
            ".  ..  imdbEr.txt  imdb.vocab  README  test  train\n"
          ],
          "name": "stdout"
        }
      ]
    },
    {
      "cell_type": "code",
      "metadata": {
        "id": "cqnVhr6NjMgL",
        "outputId": "5e4adf35-cd80-44b9-f82e-d32c24748586",
        "colab": {
          "base_uri": "https://localhost:8080/",
          "height": 1000
        }
      },
      "source": [
        "!cat aclImdb/README"
      ],
      "execution_count": null,
      "outputs": [
        {
          "output_type": "stream",
          "text": [
            "Large Movie Review Dataset v1.0\n",
            "\n",
            "Overview\n",
            "\n",
            "This dataset contains movie reviews along with their associated binary\n",
            "sentiment polarity labels. It is intended to serve as a benchmark for\n",
            "sentiment classification. This document outlines how the dataset was\n",
            "gathered, and how to use the files provided. \n",
            "\n",
            "Dataset \n",
            "\n",
            "The core dataset contains 50,000 reviews split evenly into 25k train\n",
            "and 25k test sets. The overall distribution of labels is balanced (25k\n",
            "pos and 25k neg). We also include an additional 50,000 unlabeled\n",
            "documents for unsupervised learning. \n",
            "\n",
            "In the entire collection, no more than 30 reviews are allowed for any\n",
            "given movie because reviews for the same movie tend to have correlated\n",
            "ratings. Further, the train and test sets contain a disjoint set of\n",
            "movies, so no significant performance is obtained by memorizing\n",
            "movie-unique terms and their associated with observed labels.  In the\n",
            "labeled train/test sets, a negative review has a score <= 4 out of 10,\n",
            "and a positive review has a score >= 7 out of 10. Thus reviews with\n",
            "more neutral ratings are not included in the train/test sets. In the\n",
            "unsupervised set, reviews of any rating are included and there are an\n",
            "even number of reviews > 5 and <= 5.\n",
            "\n",
            "Files\n",
            "\n",
            "There are two top-level directories [train/, test/] corresponding to\n",
            "the training and test sets. Each contains [pos/, neg/] directories for\n",
            "the reviews with binary labels positive and negative. Within these\n",
            "directories, reviews are stored in text files named following the\n",
            "convention [[id]_[rating].txt] where [id] is a unique id and [rating] is\n",
            "the star rating for that review on a 1-10 scale. For example, the file\n",
            "[test/pos/200_8.txt] is the text for a positive-labeled test set\n",
            "example with unique id 200 and star rating 8/10 from IMDb. The\n",
            "[train/unsup/] directory has 0 for all ratings because the ratings are\n",
            "omitted for this portion of the dataset.\n",
            "\n",
            "We also include the IMDb URLs for each review in a separate\n",
            "[urls_[pos, neg, unsup].txt] file. A review with unique id 200 will\n",
            "have its URL on line 200 of this file. Due the ever-changing IMDb, we\n",
            "are unable to link directly to the review, but only to the movie's\n",
            "review page.\n",
            "\n",
            "In addition to the review text files, we include already-tokenized bag\n",
            "of words (BoW) features that were used in our experiments. These \n",
            "are stored in .feat files in the train/test directories. Each .feat\n",
            "file is in LIBSVM format, an ascii sparse-vector format for labeled\n",
            "data.  The feature indices in these files start from 0, and the text\n",
            "tokens corresponding to a feature index is found in [imdb.vocab]. So a\n",
            "line with 0:7 in a .feat file means the first word in [imdb.vocab]\n",
            "(the) appears 7 times in that review.\n",
            "\n",
            "LIBSVM page for details on .feat file format:\n",
            "http://www.csie.ntu.edu.tw/~cjlin/libsvm/\n",
            "\n",
            "We also include [imdbEr.txt] which contains the expected rating for\n",
            "each token in [imdb.vocab] as computed by (Potts, 2011). The expected\n",
            "rating is a good way to get a sense for the average polarity of a word\n",
            "in the dataset.\n",
            "\n",
            "Citing the dataset\n",
            "\n",
            "When using this dataset please cite our ACL 2011 paper which\n",
            "introduces it. This paper also contains classification results which\n",
            "you may want to compare against.\n",
            "\n",
            "\n",
            "@InProceedings{maas-EtAl:2011:ACL-HLT2011,\n",
            "  author    = {Maas, Andrew L.  and  Daly, Raymond E.  and  Pham, Peter T.  and  Huang, Dan  and  Ng, Andrew Y.  and  Potts, Christopher},\n",
            "  title     = {Learning Word Vectors for Sentiment Analysis},\n",
            "  booktitle = {Proceedings of the 49th Annual Meeting of the Association for Computational Linguistics: Human Language Technologies},\n",
            "  month     = {June},\n",
            "  year      = {2011},\n",
            "  address   = {Portland, Oregon, USA},\n",
            "  publisher = {Association for Computational Linguistics},\n",
            "  pages     = {142--150},\n",
            "  url       = {http://www.aclweb.org/anthology/P11-1015}\n",
            "}\n",
            "\n",
            "References\n",
            "\n",
            "Potts, Christopher. 2011. On the negativity of negation. In Nan Li and\n",
            "David Lutz, eds., Proceedings of Semantics and Linguistic Theory 20,\n",
            "636-659.\n",
            "\n",
            "Contact\n",
            "\n",
            "For questions/comments/corrections please contact Andrew Maas\n",
            "amaas@cs.stanford.edu\n"
          ],
          "name": "stdout"
        }
      ]
    },
    {
      "cell_type": "code",
      "metadata": {
        "id": "3JEKP00BjO2s",
        "outputId": "30ab235a-fa6e-493e-bbe8-176cffbd5450",
        "colab": {
          "base_uri": "https://localhost:8080/",
          "height": 54
        }
      },
      "source": [
        "!head -10 aclImdb/train/pos/4298_10.txt"
      ],
      "execution_count": null,
      "outputs": [
        {
          "output_type": "stream",
          "text": [
            "This movie awed me so much that I watch it at least once a year. At times I find it uncomfortable. At times I find it empowering. And I always find the characters human and real. It is a movie that shows you the gritty reality of life in LA, starting with the recurring helicopter search lights scanning for the dangers lurking so close to the ordinary lives being carried on by the characters. It is also a movie that shows you how the kindness of a stranger can change your life and empower you to make a difference. Grand Canyon reminds you that every action you take, whether intended or not, has powerful repercussions. I found this movie to be similar in many ways to Robert Altman's film Short Cuts. Both had a star-studded roster of perfectly cast actors & actresses and both movies allowed you to gradually see how the the characters interrelated with one another and affected each other, for better or worse. Grand Canyon did a better job of providing a cohesive message, (hope in the face of despairing reality), than Altman's film, although I found them both intriguing in their own way. This film is a definite must see!!!"
          ],
          "name": "stdout"
        }
      ]
    },
    {
      "cell_type": "markdown",
      "metadata": {
        "id": "g6NYWJhEjTvZ"
      },
      "source": [
        "Each of the reviews are kept as a file , so we have to merge them"
      ]
    },
    {
      "cell_type": "code",
      "metadata": {
        "id": "By0D1b0fjZjT"
      },
      "source": [
        "import glob\n",
        "import os\n",
        "def create_file(file_dir,final_file_name,label):\n",
        "  os.chdir(file_dir)\n",
        "  read_files = glob.glob(\"*.txt\")\n",
        "  with open(final_file_name, \"w\") as outfile:\n",
        "      for f in read_files:\n",
        "          with open(f, \"r\") as infile:\n",
        "              outfile.write(str(infile.read()) + '||' + label + '\\n')"
      ],
      "execution_count": null,
      "outputs": []
    },
    {
      "cell_type": "code",
      "metadata": {
        "id": "ALS_nofxjcYL",
        "outputId": "519a2e5f-3311-4db4-92e2-9ec399f89e8d",
        "colab": {
          "base_uri": "https://localhost:8080/",
          "height": 36
        }
      },
      "source": [
        "os.getcwd()"
      ],
      "execution_count": null,
      "outputs": [
        {
          "output_type": "execute_result",
          "data": {
            "application/vnd.google.colaboratory.intrinsic+json": {
              "type": "string"
            },
            "text/plain": [
              "'/content'"
            ]
          },
          "metadata": {
            "tags": []
          },
          "execution_count": 8
        }
      ]
    },
    {
      "cell_type": "code",
      "metadata": {
        "id": "j5UVeWz-jgkN"
      },
      "source": [
        "create_file('/content/aclImdb/train/pos','all_pos_comments.txt','1')"
      ],
      "execution_count": null,
      "outputs": []
    },
    {
      "cell_type": "code",
      "metadata": {
        "id": "fEv2L1C_jhlb"
      },
      "source": [
        "create_file('/content/aclImdb/train/neg','all_neg_comments.txt','0')"
      ],
      "execution_count": null,
      "outputs": []
    },
    {
      "cell_type": "markdown",
      "metadata": {
        "id": "7ee-Ajymjn8T"
      },
      "source": [
        "Finally we have processed the data and uploaded here in csv format for easy experimentation. "
      ]
    },
    {
      "cell_type": "code",
      "metadata": {
        "id": "jSaBfzGBjkx7"
      },
      "source": [
        "from google.colab import drive"
      ],
      "execution_count": 1,
      "outputs": []
    },
    {
      "cell_type": "code",
      "metadata": {
        "id": "N6D-A0W4jy9H",
        "outputId": "559ede31-f4f2-4d01-8516-7cd0b87f93f7",
        "colab": {
          "base_uri": "https://localhost:8080/"
        }
      },
      "source": [
        "drive.mount('/content/gdrive/')"
      ],
      "execution_count": 2,
      "outputs": [
        {
          "output_type": "stream",
          "text": [
            "Mounted at /content/gdrive/\n"
          ],
          "name": "stdout"
        }
      ]
    },
    {
      "cell_type": "code",
      "metadata": {
        "id": "MacueiUwJByW",
        "outputId": "1ef3060c-50ff-4e06-a78e-9d3de67d8a3a",
        "colab": {
          "base_uri": "https://localhost:8080/"
        }
      },
      "source": [
        "ls"
      ],
      "execution_count": 3,
      "outputs": [
        {
          "output_type": "stream",
          "text": [
            "\u001b[0m\u001b[01;34mgdrive\u001b[0m/  \u001b[01;34msample_data\u001b[0m/\n"
          ],
          "name": "stdout"
        }
      ]
    },
    {
      "cell_type": "code",
      "metadata": {
        "id": "KrpGf73IJF8N",
        "outputId": "f2e074f1-d425-43b6-af23-7a3839df02fb",
        "colab": {
          "base_uri": "https://localhost:8080/"
        }
      },
      "source": [
        "ls -al /content/gdrive/My\\ Drive/Sem3/DL/project/"
      ],
      "execution_count": 10,
      "outputs": [
        {
          "output_type": "stream",
          "text": [
            "total 64665\n",
            "-rw------- 1 root root 66212309 Oct 19  2019 'IMDB Dataset.csv'\n",
            "drwx------ 2 root root     4096 Oct 19 14:53  \u001b[0m\u001b[01;34mmodel_artifacts\u001b[0m/\n"
          ],
          "name": "stdout"
        }
      ]
    },
    {
      "cell_type": "code",
      "metadata": {
        "id": "9LlHJwFwjzAv",
        "outputId": "bde57337-e1ad-4566-b526-6c6d7a4e86b4",
        "colab": {
          "base_uri": "https://localhost:8080/",
          "height": 204
        }
      },
      "source": [
        "import pandas as pd\n",
        "\n",
        "imdb_data = pd.read_csv('/content/gdrive/My Drive/Sem3/DL/project/IMDB Dataset.csv')\n",
        "imdb_data.head()"
      ],
      "execution_count": 11,
      "outputs": [
        {
          "output_type": "execute_result",
          "data": {
            "text/html": [
              "<div>\n",
              "<style scoped>\n",
              "    .dataframe tbody tr th:only-of-type {\n",
              "        vertical-align: middle;\n",
              "    }\n",
              "\n",
              "    .dataframe tbody tr th {\n",
              "        vertical-align: top;\n",
              "    }\n",
              "\n",
              "    .dataframe thead th {\n",
              "        text-align: right;\n",
              "    }\n",
              "</style>\n",
              "<table border=\"1\" class=\"dataframe\">\n",
              "  <thead>\n",
              "    <tr style=\"text-align: right;\">\n",
              "      <th></th>\n",
              "      <th>review</th>\n",
              "      <th>sentiment</th>\n",
              "    </tr>\n",
              "  </thead>\n",
              "  <tbody>\n",
              "    <tr>\n",
              "      <th>0</th>\n",
              "      <td>One of the other reviewers has mentioned that ...</td>\n",
              "      <td>positive</td>\n",
              "    </tr>\n",
              "    <tr>\n",
              "      <th>1</th>\n",
              "      <td>A wonderful little production. &lt;br /&gt;&lt;br /&gt;The...</td>\n",
              "      <td>positive</td>\n",
              "    </tr>\n",
              "    <tr>\n",
              "      <th>2</th>\n",
              "      <td>I thought this was a wonderful way to spend ti...</td>\n",
              "      <td>positive</td>\n",
              "    </tr>\n",
              "    <tr>\n",
              "      <th>3</th>\n",
              "      <td>Basically there's a family where a little boy ...</td>\n",
              "      <td>negative</td>\n",
              "    </tr>\n",
              "    <tr>\n",
              "      <th>4</th>\n",
              "      <td>Petter Mattei's \"Love in the Time of Money\" is...</td>\n",
              "      <td>positive</td>\n",
              "    </tr>\n",
              "  </tbody>\n",
              "</table>\n",
              "</div>"
            ],
            "text/plain": [
              "                                              review sentiment\n",
              "0  One of the other reviewers has mentioned that ...  positive\n",
              "1  A wonderful little production. <br /><br />The...  positive\n",
              "2  I thought this was a wonderful way to spend ti...  positive\n",
              "3  Basically there's a family where a little boy ...  negative\n",
              "4  Petter Mattei's \"Love in the Time of Money\" is...  positive"
            ]
          },
          "metadata": {
            "tags": []
          },
          "execution_count": 11
        }
      ]
    },
    {
      "cell_type": "markdown",
      "metadata": {
        "id": "c3eBl6aelI_v"
      },
      "source": [
        "Review column has html tags . We have to get rid of those\n",
        "\n"
      ]
    },
    {
      "cell_type": "code",
      "metadata": {
        "id": "YfAeJCV1jzDq"
      },
      "source": [
        "import re\n",
        "\n",
        "def cleanhtml(raw_html):\n",
        "  cleanr = re.compile('<.*?>')\n",
        "  cleantext = re.sub(cleanr, '', raw_html)\n",
        "  return cleantext"
      ],
      "execution_count": 12,
      "outputs": []
    },
    {
      "cell_type": "code",
      "metadata": {
        "id": "2PeVg8B0jzGp",
        "outputId": "bb9acad4-755a-4a8a-bf1f-cba67dc354eb",
        "colab": {
          "base_uri": "https://localhost:8080/",
          "height": 204
        }
      },
      "source": [
        "imdb_data['clean_review'] = imdb_data['review'].apply(cleanhtml)\n",
        "imdb_data['label'] = imdb_data['sentiment'].apply(lambda x: 1 if x=='positive' else 0)\n",
        "\n",
        "imdb_data.head()"
      ],
      "execution_count": 13,
      "outputs": [
        {
          "output_type": "execute_result",
          "data": {
            "text/html": [
              "<div>\n",
              "<style scoped>\n",
              "    .dataframe tbody tr th:only-of-type {\n",
              "        vertical-align: middle;\n",
              "    }\n",
              "\n",
              "    .dataframe tbody tr th {\n",
              "        vertical-align: top;\n",
              "    }\n",
              "\n",
              "    .dataframe thead th {\n",
              "        text-align: right;\n",
              "    }\n",
              "</style>\n",
              "<table border=\"1\" class=\"dataframe\">\n",
              "  <thead>\n",
              "    <tr style=\"text-align: right;\">\n",
              "      <th></th>\n",
              "      <th>review</th>\n",
              "      <th>sentiment</th>\n",
              "      <th>clean_review</th>\n",
              "      <th>label</th>\n",
              "    </tr>\n",
              "  </thead>\n",
              "  <tbody>\n",
              "    <tr>\n",
              "      <th>0</th>\n",
              "      <td>One of the other reviewers has mentioned that ...</td>\n",
              "      <td>positive</td>\n",
              "      <td>One of the other reviewers has mentioned that ...</td>\n",
              "      <td>1</td>\n",
              "    </tr>\n",
              "    <tr>\n",
              "      <th>1</th>\n",
              "      <td>A wonderful little production. &lt;br /&gt;&lt;br /&gt;The...</td>\n",
              "      <td>positive</td>\n",
              "      <td>A wonderful little production. The filming tec...</td>\n",
              "      <td>1</td>\n",
              "    </tr>\n",
              "    <tr>\n",
              "      <th>2</th>\n",
              "      <td>I thought this was a wonderful way to spend ti...</td>\n",
              "      <td>positive</td>\n",
              "      <td>I thought this was a wonderful way to spend ti...</td>\n",
              "      <td>1</td>\n",
              "    </tr>\n",
              "    <tr>\n",
              "      <th>3</th>\n",
              "      <td>Basically there's a family where a little boy ...</td>\n",
              "      <td>negative</td>\n",
              "      <td>Basically there's a family where a little boy ...</td>\n",
              "      <td>0</td>\n",
              "    </tr>\n",
              "    <tr>\n",
              "      <th>4</th>\n",
              "      <td>Petter Mattei's \"Love in the Time of Money\" is...</td>\n",
              "      <td>positive</td>\n",
              "      <td>Petter Mattei's \"Love in the Time of Money\" is...</td>\n",
              "      <td>1</td>\n",
              "    </tr>\n",
              "  </tbody>\n",
              "</table>\n",
              "</div>"
            ],
            "text/plain": [
              "                                              review  ... label\n",
              "0  One of the other reviewers has mentioned that ...  ...     1\n",
              "1  A wonderful little production. <br /><br />The...  ...     1\n",
              "2  I thought this was a wonderful way to spend ti...  ...     1\n",
              "3  Basically there's a family where a little boy ...  ...     0\n",
              "4  Petter Mattei's \"Love in the Time of Money\" is...  ...     1\n",
              "\n",
              "[5 rows x 4 columns]"
            ]
          },
          "metadata": {
            "tags": []
          },
          "execution_count": 13
        }
      ]
    },
    {
      "cell_type": "code",
      "metadata": {
        "id": "1HQEkTmAl3W_",
        "outputId": "36eda4d5-a22f-4250-8384-fa682cb55e74",
        "colab": {
          "base_uri": "https://localhost:8080/"
        }
      },
      "source": [
        "from sklearn.model_selection import train_test_split\n",
        "\n",
        "X_train, X_test, y_train, y_test = train_test_split(imdb_data['clean_review'].values, imdb_data['label'].values, test_size=0.2)\n",
        "\n",
        "X_train, X_cv, y_train, y_cv = train_test_split(X_train, y_train, test_size=0.5)\n",
        "\n",
        "print(\"Shape of train data:\", len(X_train))\n",
        "print(\"Shape of CV data:\", len(X_cv))\n",
        "print(\"Shape of test data:\", len(X_test))"
      ],
      "execution_count": 14,
      "outputs": [
        {
          "output_type": "stream",
          "text": [
            "Shape of train data: 20000\n",
            "Shape of CV data: 20000\n",
            "Shape of test data: 10000\n"
          ],
          "name": "stdout"
        }
      ]
    },
    {
      "cell_type": "code",
      "metadata": {
        "id": "v3QINH6wl3aL"
      },
      "source": [
        "from keras.callbacks import EarlyStopping\n",
        "from keras.models import Sequential\n",
        "from keras.preprocessing import sequence\n",
        "from keras.layers import LSTM\n",
        "from keras.layers import Dense , Input, Dropout, Activation\n",
        "from keras.layers import Bidirectional\n",
        "from keras.layers.embeddings import Embedding\n",
        "from keras.models import Model\n",
        "from keras.preprocessing.text import Tokenizer\n",
        "from tensorflow.keras.models import save_model\n",
        "from tensorflow.keras.models import load_model\n",
        "from keras.utils.vis_utils import plot_model\n",
        "import pickle\n",
        "import joblib\n",
        "from sklearn.preprocessing import LabelEncoder\n",
        "\n",
        "MAX_LEN=500\n",
        "MAX_WORDS=5000\n",
        "EPOCH=10\n",
        "TOKENIZER='/content/gdrive/My Drive/Sem3/DL/project/model_artifacts/bi_lstm_tokenizer.pickle'\n",
        "MODEL_PATH = '/content/gdrive/My Drive/Sem3/DL/project/model_artifacts/lstm_bidir.model'\n",
        "\n",
        "le = LabelEncoder()\n",
        "\n",
        "def get_bi_lstm_model(mode='sum',max_len=MAX_LEN,max_words=MAX_WORDS):\n",
        "    inputs = Input(name='inputs',shape=[max_len])\n",
        "    layer = Embedding(max_words,128,input_length=max_len)(inputs)\n",
        "    layer = Bidirectional(LSTM(128, return_sequences=False), input_shape=(128, 1), merge_mode=mode)(layer)\n",
        "    layer = Dense(128,name='FC1')(layer)\n",
        "    layer = Activation('relu')(layer)\n",
        "    layer = Dropout(0.3)(layer)\n",
        "    layer = Dense(1,name='out_layer')(layer)\n",
        "    layer = Activation('sigmoid')(layer)\n",
        "    model = Model(inputs=inputs,outputs=layer)\n",
        "    return model\n",
        "\n",
        "# Only call the below function, It will define the model as above\n",
        "def model_compile():\n",
        "    model = get_bi_lstm_model()\n",
        "    model.summary()\n",
        "    model.compile(loss='binary_crossentropy',optimizer='adam',metrics=['accuracy'])\n",
        "    return model\n",
        "\n",
        "def train_model(model,X,y,X_cv,y_cv, epoch =EPOCH, model_path=None):\n",
        "    hist = model.fit(X, y, epochs=epoch, batch_size=16, verbose=1,validation_data=(X_cv, y_cv),\n",
        "                     callbacks=[EarlyStopping(monitor='val_loss',min_delta=0.0001)])\n",
        "    \n",
        "    if model_path:\n",
        "        path = model_path\n",
        "    else:\n",
        "        path =  MODEL_PATH\n",
        "    save_model(\n",
        "        model, filepath=path , overwrite=True, include_optimizer=True, save_format=None,\n",
        "        signatures=None, options=None\n",
        "    )\n",
        "    return model,hist\n",
        "\n",
        "def convert_y(y):\n",
        "  return le.fit_transform(y)"
      ],
      "execution_count": 18,
      "outputs": []
    },
    {
      "cell_type": "code",
      "metadata": {
        "id": "b9RE2IcbVxpl"
      },
      "source": [
        "import os\n",
        "\n",
        "def save_pickle(path,object):\n",
        "    with open(path, 'wb') as handle:\n",
        "        pickle.dump(object, handle)\n",
        "\n",
        "def read_pickle(path):\n",
        "    with open(path, 'rb') as handle:\n",
        "        object = pickle.load(handle)\n",
        "    return object\n",
        "\n",
        "\n",
        "def data_processing_model(X,train=False):\n",
        "    \"\"\"\n",
        "    :param X: sentences in list format\n",
        "    :param train: if train time then save\n",
        "    :return: tokenized matrix for DL input\n",
        "    \"\"\"\n",
        "    path = os.path.join(TOKENIZER)\n",
        "    texts = [line.lower().split(\" \") for line in X]\n",
        "    if not train:\n",
        "        tok = read_pickle(path)\n",
        "    else:\n",
        "      tok = Tokenizer(num_words=MAX_WORDS)\n",
        "      tok.fit_on_texts(texts)\n",
        "    text_tokenized = tok.texts_to_sequences(texts)\n",
        "    if train:\n",
        "        save_pickle(path, tok)\n",
        "    text_sequence = sequence.pad_sequences(text_tokenized, maxlen=MAX_LEN)\n",
        "    return text_sequence"
      ],
      "execution_count": 16,
      "outputs": []
    },
    {
      "cell_type": "code",
      "metadata": {
        "id": "TyLIfcuYV2My"
      },
      "source": [
        "X_train2=data_processing_model(X_train,train=True)\n",
        "X_cv2 = data_processing_model(X_cv,train=False)"
      ],
      "execution_count": 17,
      "outputs": []
    },
    {
      "cell_type": "code",
      "metadata": {
        "id": "Y2N0WWxCl3d1",
        "outputId": "06a28864-1d4b-402f-fe89-fa451abed5da",
        "colab": {
          "base_uri": "https://localhost:8080/"
        }
      },
      "source": [
        "model=model_compile()\n",
        "model, history=train_model(model,X=X_train2,y=y_train,X_cv=X_cv2,y_cv=y_cv)\n"
      ],
      "execution_count": 19,
      "outputs": [
        {
          "output_type": "stream",
          "text": [
            "Model: \"functional_1\"\n",
            "_________________________________________________________________\n",
            "Layer (type)                 Output Shape              Param #   \n",
            "=================================================================\n",
            "inputs (InputLayer)          [(None, 500)]             0         \n",
            "_________________________________________________________________\n",
            "embedding (Embedding)        (None, 500, 128)          640000    \n",
            "_________________________________________________________________\n",
            "bidirectional (Bidirectional (None, 128)               263168    \n",
            "_________________________________________________________________\n",
            "FC1 (Dense)                  (None, 128)               16512     \n",
            "_________________________________________________________________\n",
            "activation (Activation)      (None, 128)               0         \n",
            "_________________________________________________________________\n",
            "dropout (Dropout)            (None, 128)               0         \n",
            "_________________________________________________________________\n",
            "out_layer (Dense)            (None, 1)                 129       \n",
            "_________________________________________________________________\n",
            "activation_1 (Activation)    (None, 1)                 0         \n",
            "=================================================================\n",
            "Total params: 919,809\n",
            "Trainable params: 919,809\n",
            "Non-trainable params: 0\n",
            "_________________________________________________________________\n",
            "Epoch 1/10\n",
            "1250/1250 [==============================] - 1221s 977ms/step - loss: 0.4911 - accuracy: 0.7597 - val_loss: 0.3828 - val_accuracy: 0.8339\n",
            "Epoch 2/10\n",
            "1250/1250 [==============================] - 1213s 970ms/step - loss: 0.3235 - accuracy: 0.8720 - val_loss: 0.3848 - val_accuracy: 0.8522\n",
            "WARNING:tensorflow:From /usr/local/lib/python3.6/dist-packages/tensorflow/python/training/tracking/tracking.py:111: Model.state_updates (from tensorflow.python.keras.engine.training) is deprecated and will be removed in a future version.\n",
            "Instructions for updating:\n",
            "This property should not be used in TensorFlow 2.0, as updates are applied automatically.\n",
            "WARNING:tensorflow:From /usr/local/lib/python3.6/dist-packages/tensorflow/python/training/tracking/tracking.py:111: Layer.updates (from tensorflow.python.keras.engine.base_layer) is deprecated and will be removed in a future version.\n",
            "Instructions for updating:\n",
            "This property should not be used in TensorFlow 2.0, as updates are applied automatically.\n",
            "INFO:tensorflow:Assets written to: /content/gdrive/My Drive/Sem3/DL/project/model_artifacts/lstm_bidir.model/assets\n"
          ],
          "name": "stdout"
        }
      ]
    },
    {
      "cell_type": "code",
      "metadata": {
        "id": "4N3T5XWCgtAD",
        "outputId": "07fdfccb-c3b1-47fc-c658-11aad3fbaac4",
        "colab": {
          "base_uri": "https://localhost:8080/",
          "height": 337
        }
      },
      "source": [
        "from matplotlib import pyplot\n",
        "def plot_history(history):\n",
        "    pyplot.style.use('ggplot')\n",
        "    acc = history.history['accuracy']\n",
        "    val_acc = history.history['val_accuracy']\n",
        "    loss = history.history['loss']\n",
        "    val_loss = history.history['val_loss']\n",
        "    x = range(1, len(acc) + 1)\n",
        "    pyplot.figure(figsize=(12, 5))\n",
        "    pyplot.subplot(1, 2, 1)\n",
        "    pyplot.plot(x, acc, 'b', label='Training acc')\n",
        "    pyplot.plot(x, val_acc, 'r', label='Validation acc')\n",
        "    pyplot.title('Training and validation accuracy')\n",
        "    pyplot.legend()\n",
        "    pyplot.subplot(1, 2, 2)\n",
        "    pyplot.plot(x, loss, 'b', label='Training loss')\n",
        "    pyplot.plot(x, val_loss, 'r', label='Validation loss')\n",
        "    pyplot.title('Training and validation loss')\n",
        "    pyplot.legend()\n",
        "\n",
        "plot_history(history)"
      ],
      "execution_count": 20,
      "outputs": [
        {
          "output_type": "display_data",
          "data": {
            "image/png": "[encoded data removed]",
            "text/plain": [
              "<Figure size 864x360 with 2 Axes>"
            ]
          },
          "metadata": {
            "tags": []
          }
        }
      ]
    },
    {
      "cell_type": "code",
      "metadata": {
        "id": "wTV-N85lhp1c"
      },
      "source": [
        "def score_data(txt,tok,max_len=MAX_LEN):\n",
        "    path = MODEL_PATH\n",
        "    txts = data_processing_model(txt,train=False)\n",
        "    model = load_model(path)\n",
        "    preds = model.predict(txts)\n",
        "    return preds"
      ],
      "execution_count": 21,
      "outputs": []
    },
    {
      "cell_type": "code",
      "metadata": {
        "id": "xBT7mAmql3hB",
        "outputId": "21a0c3b6-ac63-4190-d1de-0c14279e0151",
        "colab": {
          "base_uri": "https://localhost:8080/"
        }
      },
      "source": [
        "# Some Random Example\n",
        "\n",
        "\n",
        "sample_texts = [\"what an awesome movie\",\"if this is good then nothing is bad\"]\n",
        "print(score_data(sample_texts,tok=read_pickle(TOKENIZER)))"
      ],
      "execution_count": 22,
      "outputs": [
        {
          "output_type": "stream",
          "text": [
            "[[0.78572357]\n",
            " [0.0984959 ]]\n"
          ],
          "name": "stdout"
        }
      ]
    },
    {
      "cell_type": "code",
      "metadata": {
        "id": "2uXvbUKSgtDv"
      },
      "source": [
        "y_pred_test = score_data(X_test,tok=read_pickle(TOKENIZER))"
      ],
      "execution_count": 23,
      "outputs": []
    },
    {
      "cell_type": "code",
      "metadata": {
        "id": "tndMEpvfgtGN"
      },
      "source": [
        "y_pred_test=y_pred_test.ravel()"
      ],
      "execution_count": 24,
      "outputs": []
    },
    {
      "cell_type": "code",
      "metadata": {
        "id": "c9CNk2AngtKZ",
        "outputId": "a42ccfd7-818a-4f78-edd5-ada51d3967e6",
        "colab": {
          "base_uri": "https://localhost:8080/"
        }
      },
      "source": [
        "from sklearn.metrics import classification_report\n",
        "print(classification_report(y_pred=list(map(lambda x: int(x>0.5),y_pred_test)), y_true=y_test))"
      ],
      "execution_count": 25,
      "outputs": [
        {
          "output_type": "stream",
          "text": [
            "              precision    recall  f1-score   support\n",
            "\n",
            "           0       0.90      0.77      0.83      4992\n",
            "           1       0.80      0.92      0.85      5008\n",
            "\n",
            "    accuracy                           0.84     10000\n",
            "   macro avg       0.85      0.84      0.84     10000\n",
            "weighted avg       0.85      0.84      0.84     10000\n",
            "\n"
          ],
          "name": "stdout"
        }
      ]
    },
    {
      "cell_type": "code",
      "metadata": {
        "id": "kul3-R0W4_a5",
        "outputId": "5b983b98-39d9-46e4-a823-5dc8c1814e43",
        "colab": {
          "base_uri": "https://localhost:8080/",
          "height": 282
        }
      },
      "source": [
        "from sklearn.metrics import precision_recall_curve\n",
        "def plot_pr_curve(test_y, model_probs):\n",
        "    # calculate the no skill line as the proportion of the positive class\n",
        "    no_skill = len(test_y[test_y==1]) / len(test_y)\n",
        "    # plot the no skill precision-recall curve\n",
        "    pyplot.plot([0, 1], [no_skill, no_skill], linestyle='--', label='No Skill')\n",
        "    # plot model precision-recall curve\n",
        "    precision, recall, _ = precision_recall_curve(test_y, model_probs)\n",
        "    pyplot.plot(recall, precision, marker='.', label='Model')\n",
        "    # axis labels\n",
        "    pyplot.xlabel('Recall')\n",
        "    pyplot.ylabel('Precision')\n",
        "    # show the legend\n",
        "    pyplot.legend()\n",
        "    # show the plot\n",
        "    pyplot.show()\n",
        "\n",
        "\n",
        "plot_pr_curve(y_test,y_pred_test)"
      ],
      "execution_count": 26,
      "outputs": [
        {
          "output_type": "display_data",
          "data": {
            "image/png": "[encoded data removed]",
            "text/plain": [
              "<Figure size 432x288 with 1 Axes>"
            ]
          },
          "metadata": {
            "tags": []
          }
        }
      ]
    },
    {
      "cell_type": "code",
      "metadata": {
        "id": "aXjoxH247BKo",
        "outputId": "867d446b-c971-4c60-e494-534438cade30",
        "colab": {
          "base_uri": "https://localhost:8080/",
          "height": 282
        }
      },
      "source": [
        "# plot no skill and model roc curves\n",
        "from sklearn.metrics import roc_curve, roc_auc_score\n",
        "def plot_roc_curve(test_y, model_probs,save=False):\n",
        "    pyplot.plot([0, 1], [0, 1], linestyle='--', label='No Skill')\n",
        "    # plot model roc curve\n",
        "    fpr, tpr, _ = roc_curve(test_y, model_probs)\n",
        "    pyplot.plot(fpr, tpr, marker='.', label='Model')\n",
        "    auc = roc_auc_score(test_y, model_probs)\n",
        "    pyplot.text(0.7,0.3,' ROC AUC=%.3f' % (auc))\n",
        "    # axis labels\n",
        "    pyplot.xlabel('False Positive Rate')\n",
        "    pyplot.ylabel('True Positive Rate')\n",
        "    # show the legend\n",
        "    pyplot.legend()\n",
        "    if save:\n",
        "        return pyplot\n",
        "    # show the plot\n",
        "    pyplot.show()\n",
        "\n",
        "plot_roc_curve(y_test,y_pred_test)"
      ],
      "execution_count": 28,
      "outputs": [
        {
          "output_type": "display_data",
          "data": {
            "image/png": "[encoded data removed]",
            "text/plain": [
              "<Figure size 432x288 with 1 Axes>"
            ]
          },
          "metadata": {
            "tags": []
          }
        }
      ]
    }
  ]
}